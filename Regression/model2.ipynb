{
 "cells": [
  {
   "cell_type": "code",
   "execution_count": 1,
   "metadata": {},
   "outputs": [],
   "source": [
    "import pandas as pd\n",
    "import numpy as np\n",
    "import seaborn as sns\n",
    "from matplotlib import pyplot as plt\n",
    "import warnings\n",
    "warnings.filterwarnings(\"ignore\", category=FutureWarning)\n",
    "import re"
   ]
  },
  {
   "cell_type": "code",
   "execution_count": 2,
   "metadata": {},
   "outputs": [],
   "source": [
    "df = pd.read_csv(\"used_cars_data.csv\").drop(\"S.No.\", axis=1)"
   ]
  },
  {
   "cell_type": "code",
   "execution_count": 3,
   "metadata": {},
   "outputs": [
    {
     "data": {
      "text/plain": [
       "New_Price            6247\n",
       "Price                1234\n",
       "Seats                  53\n",
       "Engine                 46\n",
       "Power                  46\n",
       "Mileage                 2\n",
       "Name                    0\n",
       "Location                0\n",
       "Year                    0\n",
       "Kilometers_Driven       0\n",
       "Fuel_Type               0\n",
       "Transmission            0\n",
       "Owner_Type              0\n",
       "dtype: int64"
      ]
     },
     "execution_count": 3,
     "metadata": {},
     "output_type": "execute_result"
    }
   ],
   "source": [
    "# looking at which columns have the most missing values\n",
    "df.isnull().sum().sort_values(ascending=False)"
   ]
  },
  {
   "cell_type": "code",
   "execution_count": 4,
   "metadata": {},
   "outputs": [],
   "source": [
    "# For now we hypothesize that we don't need \"Name\" and \"Location\" columns for our study\n",
    "# so we will drop those.\n",
    "\n",
    "df = df.drop([\"Name\",\"Location\"], axis=1)\n",
    "#"
   ]
  },
  {
   "cell_type": "code",
   "execution_count": 5,
   "metadata": {},
   "outputs": [
    {
     "data": {
      "text/plain": [
       "Price                1234\n",
       "Seats                  53\n",
       "Engine                 46\n",
       "Power                  46\n",
       "Mileage                 2\n",
       "Year                    0\n",
       "Kilometers_Driven       0\n",
       "Fuel_Type               0\n",
       "Transmission            0\n",
       "Owner_Type              0\n",
       "dtype: int64"
      ]
     },
     "execution_count": 5,
     "metadata": {},
     "output_type": "execute_result"
    }
   ],
   "source": [
    "#There are alot of missing values in the new price. We can drop this.\n",
    "\n",
    "df = df.drop(columns=[\"New_Price\"])\n",
    "df.isnull().sum().sort_values(ascending=False)"
   ]
  },
  {
   "cell_type": "code",
   "execution_count": 6,
   "metadata": {},
   "outputs": [
    {
     "data": {
      "text/plain": [
       "Seats                42\n",
       "Engine               36\n",
       "Power                36\n",
       "Mileage               2\n",
       "Year                  0\n",
       "Kilometers_Driven     0\n",
       "Fuel_Type             0\n",
       "Transmission          0\n",
       "Owner_Type            0\n",
       "Price                 0\n",
       "dtype: int64"
      ]
     },
     "execution_count": 6,
     "metadata": {},
     "output_type": "execute_result"
    }
   ],
   "source": [
    "# After dropping New_Price we still have 182 missing values on the Price (the very variable we aim to predict)\n",
    "# and Mileage. We are going to drop those rows.\n",
    "\n",
    "df = df.dropna(subset=[\"Price\"])\n",
    "df.isnull().sum().sort_values(ascending=False) # No more missing values/\n"
   ]
  },
  {
   "cell_type": "code",
   "execution_count": 7,
   "metadata": {},
   "outputs": [
    {
     "data": {
      "text/plain": [
       "Year                 0\n",
       "Kilometers_Driven    0\n",
       "Fuel_Type            0\n",
       "Transmission         0\n",
       "Owner_Type           0\n",
       "Mileage              0\n",
       "Engine               0\n",
       "Power                0\n",
       "Seats                0\n",
       "Price                0\n",
       "dtype: int64"
      ]
     },
     "execution_count": 7,
     "metadata": {},
     "output_type": "execute_result"
    }
   ],
   "source": [
    "# Just drop the remaining misssing rows\n",
    "df.dropna(inplace=True)\n",
    "df.isnull().sum().sort_values(ascending=False)"
   ]
  },
  {
   "cell_type": "code",
   "execution_count": 8,
   "metadata": {},
   "outputs": [
    {
     "name": "stdout",
     "output_type": "stream",
     "text": [
      "['kmpl' 'km/kg'] {'kmpl': 5909, 'km/kg': 66}\n",
      "['CC'] {'CC': 5975}\n",
      "['bhp'] {'bhp': 5975}\n"
     ]
    }
   ],
   "source": [
    "cols_with_units = [\"Mileage\", \"Engine\", \"Power\"]\n",
    "\n",
    "for col in cols_with_units:\n",
    "    sep = df.apply(lambda x : x[col].split(\" \")[1],axis=1) #separate units from figures\n",
    "    units = sep.unique()\n",
    "    freq = dict(sep.value_counts())\n",
    "    print(units,freq)"
   ]
  },
  {
   "cell_type": "code",
   "execution_count": 9,
   "metadata": {},
   "outputs": [],
   "source": [
    "# Extract the numeric part of the columns with units and convert to float\n",
    "def split_it(value):\n",
    "    try:\n",
    "        num_part = re.findall(r\"\\d+\\.*\\d*\",value)[0]\n",
    "    except IndexError as e:\n",
    "        if \"null\" in value:\n",
    "            return np.nan\n",
    "    unit_part = re.findall(\"\\D+\",value)[-1]\n",
    "    return float(num_part)"
   ]
  },
  {
   "cell_type": "code",
   "execution_count": 10,
   "metadata": {},
   "outputs": [
    {
     "name": "stdout",
     "output_type": "stream",
     "text": [
      "Mileage\n",
      "Engine\n",
      "Power\n"
     ]
    }
   ],
   "source": [
    "for col in cols_with_units:\n",
    "    df[col] = df[col].apply(split_it).astype(\"float\")\n",
    "    print(col)"
   ]
  },
  {
   "cell_type": "code",
   "execution_count": 11,
   "metadata": {},
   "outputs": [
    {
     "name": "stdout",
     "output_type": "stream",
     "text": [
      "<class 'pandas.core.frame.DataFrame'>\n",
      "Int64Index: 5975 entries, 0 to 7250\n",
      "Data columns (total 10 columns):\n",
      " #   Column             Non-Null Count  Dtype  \n",
      "---  ------             --------------  -----  \n",
      " 0   Year               5975 non-null   int64  \n",
      " 1   Kilometers_Driven  5975 non-null   int64  \n",
      " 2   Fuel_Type          5975 non-null   object \n",
      " 3   Transmission       5975 non-null   object \n",
      " 4   Owner_Type         5975 non-null   object \n",
      " 5   Mileage            5975 non-null   float64\n",
      " 6   Engine             5975 non-null   float64\n",
      " 7   Power              5872 non-null   float64\n",
      " 8   Seats              5975 non-null   float64\n",
      " 9   Price              5975 non-null   float64\n",
      "dtypes: float64(5), int64(2), object(3)\n",
      "memory usage: 513.5+ KB\n"
     ]
    }
   ],
   "source": [
    "df.info()"
   ]
  },
  {
   "cell_type": "code",
   "execution_count": 12,
   "metadata": {},
   "outputs": [],
   "source": [
    "# Model building\n",
    "y = df[\"Price\"]\n",
    "X = df.drop([\"Price\"],axis=1)"
   ]
  },
  {
   "cell_type": "code",
   "execution_count": 13,
   "metadata": {},
   "outputs": [
    {
     "data": {
      "text/html": [
       "<div>\n",
       "<style scoped>\n",
       "    .dataframe tbody tr th:only-of-type {\n",
       "        vertical-align: middle;\n",
       "    }\n",
       "\n",
       "    .dataframe tbody tr th {\n",
       "        vertical-align: top;\n",
       "    }\n",
       "\n",
       "    .dataframe thead th {\n",
       "        text-align: right;\n",
       "    }\n",
       "</style>\n",
       "<table border=\"1\" class=\"dataframe\">\n",
       "  <thead>\n",
       "    <tr style=\"text-align: right;\">\n",
       "      <th></th>\n",
       "      <th>Year</th>\n",
       "      <th>Kilometers_Driven</th>\n",
       "      <th>Mileage</th>\n",
       "      <th>Engine</th>\n",
       "      <th>Power</th>\n",
       "      <th>Seats</th>\n",
       "      <th>Fuel_Type_Diesel</th>\n",
       "      <th>Fuel_Type_LPG</th>\n",
       "      <th>Fuel_Type_Petrol</th>\n",
       "      <th>Transmission_Manual</th>\n",
       "      <th>Owner_Type_Fourth &amp; Above</th>\n",
       "      <th>Owner_Type_Second</th>\n",
       "      <th>Owner_Type_Third</th>\n",
       "    </tr>\n",
       "  </thead>\n",
       "  <tbody>\n",
       "    <tr>\n",
       "      <th>0</th>\n",
       "      <td>2012</td>\n",
       "      <td>85000</td>\n",
       "      <td>0.0</td>\n",
       "      <td>2179.0</td>\n",
       "      <td>115.0</td>\n",
       "      <td>5.0</td>\n",
       "      <td>1</td>\n",
       "      <td>0</td>\n",
       "      <td>0</td>\n",
       "      <td>0</td>\n",
       "      <td>0</td>\n",
       "      <td>1</td>\n",
       "      <td>0</td>\n",
       "    </tr>\n",
       "    <tr>\n",
       "      <th>1</th>\n",
       "      <td>2010</td>\n",
       "      <td>125000</td>\n",
       "      <td>0.0</td>\n",
       "      <td>2179.0</td>\n",
       "      <td>115.0</td>\n",
       "      <td>5.0</td>\n",
       "      <td>1</td>\n",
       "      <td>0</td>\n",
       "      <td>0</td>\n",
       "      <td>0</td>\n",
       "      <td>0</td>\n",
       "      <td>1</td>\n",
       "      <td>0</td>\n",
       "    </tr>\n",
       "    <tr>\n",
       "      <th>2</th>\n",
       "      <td>2012</td>\n",
       "      <td>119203</td>\n",
       "      <td>0.0</td>\n",
       "      <td>2179.0</td>\n",
       "      <td>115.0</td>\n",
       "      <td>5.0</td>\n",
       "      <td>1</td>\n",
       "      <td>0</td>\n",
       "      <td>0</td>\n",
       "      <td>0</td>\n",
       "      <td>0</td>\n",
       "      <td>0</td>\n",
       "      <td>0</td>\n",
       "    </tr>\n",
       "    <tr>\n",
       "      <th>3</th>\n",
       "      <td>2013</td>\n",
       "      <td>72000</td>\n",
       "      <td>0.0</td>\n",
       "      <td>2179.0</td>\n",
       "      <td>115.0</td>\n",
       "      <td>5.0</td>\n",
       "      <td>1</td>\n",
       "      <td>0</td>\n",
       "      <td>0</td>\n",
       "      <td>0</td>\n",
       "      <td>0</td>\n",
       "      <td>0</td>\n",
       "      <td>0</td>\n",
       "    </tr>\n",
       "    <tr>\n",
       "      <th>4</th>\n",
       "      <td>2013</td>\n",
       "      <td>46000</td>\n",
       "      <td>0.0</td>\n",
       "      <td>2179.0</td>\n",
       "      <td>115.0</td>\n",
       "      <td>5.0</td>\n",
       "      <td>1</td>\n",
       "      <td>0</td>\n",
       "      <td>0</td>\n",
       "      <td>0</td>\n",
       "      <td>0</td>\n",
       "      <td>1</td>\n",
       "      <td>0</td>\n",
       "    </tr>\n",
       "  </tbody>\n",
       "</table>\n",
       "</div>"
      ],
      "text/plain": [
       "   Year  Kilometers_Driven  Mileage  Engine  Power  Seats  Fuel_Type_Diesel  \\\n",
       "0  2012              85000      0.0  2179.0  115.0    5.0                 1   \n",
       "1  2010             125000      0.0  2179.0  115.0    5.0                 1   \n",
       "2  2012             119203      0.0  2179.0  115.0    5.0                 1   \n",
       "3  2013              72000      0.0  2179.0  115.0    5.0                 1   \n",
       "4  2013              46000      0.0  2179.0  115.0    5.0                 1   \n",
       "\n",
       "   Fuel_Type_LPG  Fuel_Type_Petrol  Transmission_Manual  \\\n",
       "0              0                 0                    0   \n",
       "1              0                 0                    0   \n",
       "2              0                 0                    0   \n",
       "3              0                 0                    0   \n",
       "4              0                 0                    0   \n",
       "\n",
       "   Owner_Type_Fourth & Above  Owner_Type_Second  Owner_Type_Third  \n",
       "0                          0                  1                 0  \n",
       "1                          0                  1                 0  \n",
       "2                          0                  0                 0  \n",
       "3                          0                  0                 0  \n",
       "4                          0                  1                 0  "
      ]
     },
     "execution_count": 13,
     "metadata": {},
     "output_type": "execute_result"
    }
   ],
   "source": [
    "X = pd.get_dummies(X, columns=[\"Fuel_Type\", \"Transmission\",\"Owner_Type\"], drop_first=True,)\n",
    "X.head()"
   ]
  },
  {
   "cell_type": "code",
   "execution_count": 14,
   "metadata": {},
   "outputs": [],
   "source": [
    "power_median = X[\"Power\"].median()\n",
    "X[\"Power\"].fillna(power_median,inplace=True)"
   ]
  },
  {
   "cell_type": "code",
   "execution_count": 15,
   "metadata": {},
   "outputs": [
    {
     "name": "stdout",
     "output_type": "stream",
     "text": [
      "                            OLS Regression Results                            \n",
      "==============================================================================\n",
      "Dep. Variable:                  Price   R-squared:                       0.696\n",
      "Model:                            OLS   Adj. R-squared:                  0.695\n",
      "Method:                 Least Squares   F-statistic:                     733.3\n",
      "Date:                Tue, 16 Feb 2021   Prob (F-statistic):               0.00\n",
      "Time:                        20:44:42   Log-Likelihood:                -13525.\n",
      "No. Observations:                4182   AIC:                         2.708e+04\n",
      "Df Residuals:                    4168   BIC:                         2.717e+04\n",
      "Df Model:                          13                                         \n",
      "Covariance Type:            nonrobust                                         \n",
      "=============================================================================================\n",
      "                                coef    std err          t      P>|t|      [0.025      0.975]\n",
      "---------------------------------------------------------------------------------------------\n",
      "const                     -1763.5643     78.797    -22.381      0.000   -1918.049   -1609.079\n",
      "Year                          0.8801      0.039     22.413      0.000       0.803       0.957\n",
      "Kilometers_Driven          -2.76e-05   3.41e-06     -8.085      0.000   -3.43e-05   -2.09e-05\n",
      "Mileage                      -0.1844      0.035     -5.298      0.000      -0.253      -0.116\n",
      "Engine                        0.0020      0.000      4.549      0.000       0.001       0.003\n",
      "Power                         0.1156      0.004     25.883      0.000       0.107       0.124\n",
      "Seats                        -1.2647      0.158     -8.024      0.000      -1.574      -0.956\n",
      "Fuel_Type_Diesel             -0.5315      1.046     -0.508      0.612      -2.583       1.520\n",
      "Fuel_Type_LPG                 0.9392      2.734      0.344      0.731      -4.420       6.299\n",
      "Fuel_Type_Petrol             -3.3060      1.061     -3.115      0.002      -5.387      -1.225\n",
      "Transmission_Manual          -2.4794      0.290     -8.557      0.000      -3.048      -1.911\n",
      "Owner_Type_Fourth & Above     0.1296      2.768      0.047      0.963      -5.297       5.556\n",
      "Owner_Type_Second            -0.0137      0.274     -0.050      0.960      -0.550       0.523\n",
      "Owner_Type_Third              0.7604      0.746      1.019      0.308      -0.703       2.223\n",
      "==============================================================================\n",
      "Omnibus:                     3625.096   Durbin-Watson:                   2.000\n",
      "Prob(Omnibus):                  0.000   Jarque-Bera (JB):           435470.533\n",
      "Skew:                           3.565   Prob(JB):                         0.00\n",
      "Kurtosis:                      52.480   Cond. No.                     5.55e+07\n",
      "==============================================================================\n",
      "\n",
      "Notes:\n",
      "[1] Standard Errors assume that the covariance matrix of the errors is correctly specified.\n",
      "[2] The condition number is large, 5.55e+07. This might indicate that there are\n",
      "strong multicollinearity or other numerical problems.\n"
     ]
    }
   ],
   "source": [
    "# Lets us build linear regression model using statsmodel \n",
    "import statsmodels.api as sm\n",
    "from sklearn.model_selection import train_test_split\n",
    "\n",
    "X = sm.add_constant(X)\n",
    "X_train, X_test, y_train, y_test = train_test_split(X, y, test_size=0.3, random_state=42)\n",
    "\n",
    "olsmod_train = sm.OLS(y_train, X_train)\n",
    "ols_train = olsmod_train.fit()\n",
    "print(ols_train.summary())"
   ]
  },
  {
   "cell_type": "code",
   "execution_count": 16,
   "metadata": {},
   "outputs": [
    {
     "name": "stdout",
     "output_type": "stream",
     "text": [
      "                            OLS Regression Results                            \n",
      "==============================================================================\n",
      "Dep. Variable:                  Price   R-squared:                       0.718\n",
      "Model:                            OLS   Adj. R-squared:                  0.716\n",
      "Method:                 Least Squares   F-statistic:                     348.8\n",
      "Date:                Tue, 16 Feb 2021   Prob (F-statistic):               0.00\n",
      "Time:                        20:44:55   Log-Likelihood:                -5765.9\n",
      "No. Observations:                1793   AIC:                         1.156e+04\n",
      "Df Residuals:                    1779   BIC:                         1.164e+04\n",
      "Df Model:                          13                                         \n",
      "Covariance Type:            nonrobust                                         \n",
      "=============================================================================================\n",
      "                                coef    std err          t      P>|t|      [0.025      0.975]\n",
      "---------------------------------------------------------------------------------------------\n",
      "const                     -2126.4082    103.660    -20.513      0.000   -2329.715   -1923.101\n",
      "Year                          1.0601      0.052     20.508      0.000       0.959       1.161\n",
      "Kilometers_Driven          3.408e-06   9.12e-07      3.737      0.000    1.62e-06     5.2e-06\n",
      "Mileage                      -0.2784      0.050     -5.569      0.000      -0.376      -0.180\n",
      "Engine                       -0.0008      0.001     -1.194      0.233      -0.002       0.001\n",
      "Power                         0.1345      0.007     19.937      0.000       0.121       0.148\n",
      "Seats                        -0.6929      0.235     -2.948      0.003      -1.154      -0.232\n",
      "Fuel_Type_Diesel             -0.6558      1.386     -0.473      0.636      -3.375       2.063\n",
      "Fuel_Type_LPG                 2.2746      3.319      0.685      0.493      -4.234       8.783\n",
      "Fuel_Type_Petrol             -3.8076      1.408     -2.705      0.007      -6.569      -1.047\n",
      "Transmission_Manual          -2.4518      0.417     -5.875      0.000      -3.270      -1.633\n",
      "Owner_Type_Fourth & Above     3.6021      3.525      1.022      0.307      -3.311      10.515\n",
      "Owner_Type_Second            -1.1207      0.420     -2.669      0.008      -1.944      -0.297\n",
      "Owner_Type_Third              2.1765      1.063      2.048      0.041       0.092       4.261\n",
      "==============================================================================\n",
      "Omnibus:                      776.694   Durbin-Watson:                   2.008\n",
      "Prob(Omnibus):                  0.000   Jarque-Bera (JB):            11190.040\n",
      "Skew:                           1.639   Prob(JB):                         0.00\n",
      "Kurtosis:                      14.792   Cond. No.                     1.23e+08\n",
      "==============================================================================\n",
      "\n",
      "Notes:\n",
      "[1] Standard Errors assume that the covariance matrix of the errors is correctly specified.\n",
      "[2] The condition number is large, 1.23e+08. This might indicate that there are\n",
      "strong multicollinearity or other numerical problems.\n"
     ]
    }
   ],
   "source": [
    "olsmod_test = sm.OLS(y_test, X_test)\n",
    "ols_test = olsmod_test.fit()\n",
    "print(ols_test.summary())"
   ]
  },
  {
   "cell_type": "code",
   "execution_count": null,
   "metadata": {},
   "outputs": [],
   "source": []
  },
  {
   "cell_type": "code",
   "execution_count": null,
   "metadata": {},
   "outputs": [],
   "source": []
  },
  {
   "cell_type": "code",
   "execution_count": null,
   "metadata": {},
   "outputs": [],
   "source": []
  },
  {
   "cell_type": "code",
   "execution_count": null,
   "metadata": {},
   "outputs": [],
   "source": []
  }
 ],
 "metadata": {
  "kernelspec": {
   "display_name": "venv",
   "language": "python",
   "name": "venv"
  },
  "language_info": {
   "codemirror_mode": {
    "name": "ipython",
    "version": 3
   },
   "file_extension": ".py",
   "mimetype": "text/x-python",
   "name": "python",
   "nbconvert_exporter": "python",
   "pygments_lexer": "ipython3",
   "version": "3.9.2"
  }
 },
 "nbformat": 4,
 "nbformat_minor": 2
}
