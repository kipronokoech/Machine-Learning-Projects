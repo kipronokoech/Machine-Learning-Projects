{
 "cells": [
  {
   "cell_type": "markdown",
   "metadata": {},
   "source": [
    "# LOAD NECESSARY PACKAGES"
   ]
  },
  {
   "cell_type": "code",
   "execution_count": 1,
   "metadata": {},
   "outputs": [],
   "source": [
    "import warnings\n",
    "warnings.filterwarnings(\"ignore\")\n",
    "\n",
    "import pandas as pd\n",
    "from matplotlib import pyplot as plt\n",
    "%matplotlib inline\n",
    "\n",
    "import seaborn as sns\n",
    "import numpy as np\n",
    "from sklearn import metrics\n",
    "from sklearn.metrics import confusion_matrix, accuracy_score, precision_score, recall_score, f1_score\n",
    "from sklearn.model_selection import train_test_split\n",
    "from sklearn.model_selection import GridSearchCV\n",
    "from sklearn.ensemble import BaggingClassifier, RandomForestClassifier\n",
    "from sklearn.ensemble import AdaBoostClassifier, GradientBoostingClassifier\n",
    "from sklearn.tree import DecisionTreeClassifier\n",
    "from xgboost import XGBClassifier\n",
    "from sklearn.linear_model import LogisticRegression"
   ]
  },
  {
   "cell_type": "markdown",
   "metadata": {},
   "source": [
    "# DATA STRUCTURE"
   ]
  },
  {
   "cell_type": "code",
   "execution_count": 2,
   "metadata": {},
   "outputs": [
    {
     "data": {
      "text/html": [
       "<div>\n",
       "<style scoped>\n",
       "    .dataframe tbody tr th:only-of-type {\n",
       "        vertical-align: middle;\n",
       "    }\n",
       "\n",
       "    .dataframe tbody tr th {\n",
       "        vertical-align: top;\n",
       "    }\n",
       "\n",
       "    .dataframe thead th {\n",
       "        text-align: right;\n",
       "    }\n",
       "</style>\n",
       "<table border=\"1\" class=\"dataframe\">\n",
       "  <thead>\n",
       "    <tr style=\"text-align: right;\">\n",
       "      <th></th>\n",
       "      <th>CustomerID</th>\n",
       "      <th>ProdTaken</th>\n",
       "      <th>Age</th>\n",
       "      <th>PreferredLoginDevice</th>\n",
       "      <th>CityTier</th>\n",
       "      <th>DurationOfPitch</th>\n",
       "      <th>Occupation</th>\n",
       "      <th>Gender</th>\n",
       "      <th>NumberOfPersonVisited</th>\n",
       "      <th>NumberOfFollowups</th>\n",
       "      <th>ProductPitched</th>\n",
       "      <th>PreferredPropertyStar</th>\n",
       "      <th>MaritalStatus</th>\n",
       "      <th>NumberOfTrips</th>\n",
       "      <th>Passport</th>\n",
       "      <th>PitchSatisfactionScore</th>\n",
       "      <th>OwnCar</th>\n",
       "      <th>NumberOfChildrenVisited</th>\n",
       "      <th>Designation</th>\n",
       "      <th>MonthlyIncome</th>\n",
       "    </tr>\n",
       "  </thead>\n",
       "  <tbody>\n",
       "    <tr>\n",
       "      <th>0</th>\n",
       "      <td>200000</td>\n",
       "      <td>1</td>\n",
       "      <td>41.0</td>\n",
       "      <td>Self Enquiry</td>\n",
       "      <td>3</td>\n",
       "      <td>6.0</td>\n",
       "      <td>Salaried</td>\n",
       "      <td>Female</td>\n",
       "      <td>3</td>\n",
       "      <td>3.0</td>\n",
       "      <td>Super Deluxe</td>\n",
       "      <td>3.0</td>\n",
       "      <td>Single</td>\n",
       "      <td>1.0</td>\n",
       "      <td>1</td>\n",
       "      <td>2</td>\n",
       "      <td>1</td>\n",
       "      <td>0.0</td>\n",
       "      <td>Manager</td>\n",
       "      <td>20993.0</td>\n",
       "    </tr>\n",
       "    <tr>\n",
       "      <th>1</th>\n",
       "      <td>200001</td>\n",
       "      <td>0</td>\n",
       "      <td>49.0</td>\n",
       "      <td>Company Invited</td>\n",
       "      <td>1</td>\n",
       "      <td>14.0</td>\n",
       "      <td>Salaried</td>\n",
       "      <td>Male</td>\n",
       "      <td>3</td>\n",
       "      <td>4.0</td>\n",
       "      <td>Super Deluxe</td>\n",
       "      <td>4.0</td>\n",
       "      <td>Divorced</td>\n",
       "      <td>2.0</td>\n",
       "      <td>0</td>\n",
       "      <td>3</td>\n",
       "      <td>1</td>\n",
       "      <td>2.0</td>\n",
       "      <td>Manager</td>\n",
       "      <td>20130.0</td>\n",
       "    </tr>\n",
       "    <tr>\n",
       "      <th>2</th>\n",
       "      <td>200002</td>\n",
       "      <td>1</td>\n",
       "      <td>37.0</td>\n",
       "      <td>Self Enquiry</td>\n",
       "      <td>1</td>\n",
       "      <td>8.0</td>\n",
       "      <td>Free Lancer</td>\n",
       "      <td>Male</td>\n",
       "      <td>3</td>\n",
       "      <td>4.0</td>\n",
       "      <td>Multi</td>\n",
       "      <td>3.0</td>\n",
       "      <td>Single</td>\n",
       "      <td>7.0</td>\n",
       "      <td>1</td>\n",
       "      <td>3</td>\n",
       "      <td>0</td>\n",
       "      <td>0.0</td>\n",
       "      <td>Executive</td>\n",
       "      <td>17090.0</td>\n",
       "    </tr>\n",
       "    <tr>\n",
       "      <th>3</th>\n",
       "      <td>200003</td>\n",
       "      <td>0</td>\n",
       "      <td>33.0</td>\n",
       "      <td>Company Invited</td>\n",
       "      <td>1</td>\n",
       "      <td>9.0</td>\n",
       "      <td>Salaried</td>\n",
       "      <td>Female</td>\n",
       "      <td>2</td>\n",
       "      <td>3.0</td>\n",
       "      <td>Multi</td>\n",
       "      <td>3.0</td>\n",
       "      <td>Divorced</td>\n",
       "      <td>2.0</td>\n",
       "      <td>1</td>\n",
       "      <td>5</td>\n",
       "      <td>1</td>\n",
       "      <td>1.0</td>\n",
       "      <td>Executive</td>\n",
       "      <td>17909.0</td>\n",
       "    </tr>\n",
       "    <tr>\n",
       "      <th>4</th>\n",
       "      <td>200004</td>\n",
       "      <td>0</td>\n",
       "      <td>NaN</td>\n",
       "      <td>Self Enquiry</td>\n",
       "      <td>1</td>\n",
       "      <td>8.0</td>\n",
       "      <td>Small Business</td>\n",
       "      <td>Male</td>\n",
       "      <td>2</td>\n",
       "      <td>3.0</td>\n",
       "      <td>Multi</td>\n",
       "      <td>4.0</td>\n",
       "      <td>Divorced</td>\n",
       "      <td>1.0</td>\n",
       "      <td>0</td>\n",
       "      <td>5</td>\n",
       "      <td>1</td>\n",
       "      <td>0.0</td>\n",
       "      <td>Executive</td>\n",
       "      <td>18468.0</td>\n",
       "    </tr>\n",
       "  </tbody>\n",
       "</table>\n",
       "</div>"
      ],
      "text/plain": [
       "   CustomerID  ProdTaken   Age PreferredLoginDevice  CityTier  \\\n",
       "0      200000          1  41.0         Self Enquiry         3   \n",
       "1      200001          0  49.0      Company Invited         1   \n",
       "2      200002          1  37.0         Self Enquiry         1   \n",
       "3      200003          0  33.0      Company Invited         1   \n",
       "4      200004          0   NaN         Self Enquiry         1   \n",
       "\n",
       "   DurationOfPitch      Occupation  Gender  NumberOfPersonVisited  \\\n",
       "0              6.0        Salaried  Female                      3   \n",
       "1             14.0        Salaried    Male                      3   \n",
       "2              8.0     Free Lancer    Male                      3   \n",
       "3              9.0        Salaried  Female                      2   \n",
       "4              8.0  Small Business    Male                      2   \n",
       "\n",
       "   NumberOfFollowups ProductPitched  PreferredPropertyStar MaritalStatus  \\\n",
       "0                3.0   Super Deluxe                    3.0        Single   \n",
       "1                4.0   Super Deluxe                    4.0      Divorced   \n",
       "2                4.0          Multi                    3.0        Single   \n",
       "3                3.0          Multi                    3.0      Divorced   \n",
       "4                3.0          Multi                    4.0      Divorced   \n",
       "\n",
       "   NumberOfTrips  Passport  PitchSatisfactionScore  OwnCar  \\\n",
       "0            1.0         1                       2       1   \n",
       "1            2.0         0                       3       1   \n",
       "2            7.0         1                       3       0   \n",
       "3            2.0         1                       5       1   \n",
       "4            1.0         0                       5       1   \n",
       "\n",
       "   NumberOfChildrenVisited Designation  MonthlyIncome  \n",
       "0                      0.0     Manager        20993.0  \n",
       "1                      2.0     Manager        20130.0  \n",
       "2                      0.0   Executive        17090.0  \n",
       "3                      1.0   Executive        17909.0  \n",
       "4                      0.0   Executive        18468.0  "
      ]
     },
     "execution_count": 2,
     "metadata": {},
     "output_type": "execute_result"
    }
   ],
   "source": [
    "df_description = pd.read_excel(\"Tourism.xlsx\", sheet_name=\"Data Dict\")\n",
    "df = pd.read_excel(\"Tourism.xlsx\", sheet_name=\"Tourism\")\n",
    "df.head(5)"
   ]
  },
  {
   "cell_type": "code",
   "execution_count": 3,
   "metadata": {},
   "outputs": [],
   "source": [
    "df.drop([\"CustomerID\"], axis=1, inplace=True)"
   ]
  },
  {
   "cell_type": "markdown",
   "metadata": {},
   "source": [
    "**Dropping CustomerID**\n",
    "\n",
    "- The CustomerID variable was dropped. It was deemed unimportant for analysis\n"
   ]
  },
  {
   "cell_type": "code",
   "execution_count": 4,
   "metadata": {},
   "outputs": [
    {
     "name": "stdout",
     "output_type": "stream",
     "text": [
      "<class 'pandas.core.frame.DataFrame'>\n",
      "RangeIndex: 4888 entries, 0 to 4887\n",
      "Data columns (total 19 columns):\n",
      " #   Column                   Non-Null Count  Dtype  \n",
      "---  ------                   --------------  -----  \n",
      " 0   ProdTaken                4888 non-null   int64  \n",
      " 1   Age                      4662 non-null   float64\n",
      " 2   PreferredLoginDevice     4863 non-null   object \n",
      " 3   CityTier                 4888 non-null   int64  \n",
      " 4   DurationOfPitch          4637 non-null   float64\n",
      " 5   Occupation               4888 non-null   object \n",
      " 6   Gender                   4888 non-null   object \n",
      " 7   NumberOfPersonVisited    4888 non-null   int64  \n",
      " 8   NumberOfFollowups        4843 non-null   float64\n",
      " 9   ProductPitched           4888 non-null   object \n",
      " 10  PreferredPropertyStar    4862 non-null   float64\n",
      " 11  MaritalStatus            4888 non-null   object \n",
      " 12  NumberOfTrips            4748 non-null   float64\n",
      " 13  Passport                 4888 non-null   int64  \n",
      " 14  PitchSatisfactionScore   4888 non-null   int64  \n",
      " 15  OwnCar                   4888 non-null   int64  \n",
      " 16  NumberOfChildrenVisited  4822 non-null   float64\n",
      " 17  Designation              4888 non-null   object \n",
      " 18  MonthlyIncome            4655 non-null   float64\n",
      "dtypes: float64(7), int64(6), object(6)\n",
      "memory usage: 725.7+ KB\n"
     ]
    }
   ],
   "source": [
    "df.info()"
   ]
  },
  {
   "cell_type": "markdown",
   "metadata": {},
   "source": [
    " **Data Structure**\n",
    "\n",
    "- The Data has 4888 rows\n",
    "- It also has 19 columns \n",
    "- There are some missing values in some rows\n",
    "- There are attributres of int64, float64 and object data types"
   ]
  },
  {
   "cell_type": "code",
   "execution_count": 5,
   "metadata": {},
   "outputs": [],
   "source": [
    "# Convert this columns to categorical - they are supposed to be categorical than int64\n",
    "to_categories = [\"Passport\", \"OwnCar\"]\n",
    "for feature in to_categories: # Loop through all columns above\n",
    "    df[feature] = pd.Categorical(df[feature])# convert column to string."
   ]
  },
  {
   "cell_type": "code",
   "execution_count": 6,
   "metadata": {
    "scrolled": true
   },
   "outputs": [
    {
     "data": {
      "text/html": [
       "<div>\n",
       "<style scoped>\n",
       "    .dataframe tbody tr th:only-of-type {\n",
       "        vertical-align: middle;\n",
       "    }\n",
       "\n",
       "    .dataframe tbody tr th {\n",
       "        vertical-align: top;\n",
       "    }\n",
       "\n",
       "    .dataframe thead th {\n",
       "        text-align: right;\n",
       "    }\n",
       "</style>\n",
       "<table border=\"1\" class=\"dataframe\">\n",
       "  <thead>\n",
       "    <tr style=\"text-align: right;\">\n",
       "      <th></th>\n",
       "      <th>ProdTaken</th>\n",
       "      <th>Age</th>\n",
       "      <th>PreferredLoginDevice</th>\n",
       "      <th>CityTier</th>\n",
       "      <th>DurationOfPitch</th>\n",
       "      <th>Occupation</th>\n",
       "      <th>Gender</th>\n",
       "      <th>NumberOfPersonVisited</th>\n",
       "      <th>NumberOfFollowups</th>\n",
       "      <th>ProductPitched</th>\n",
       "      <th>PreferredPropertyStar</th>\n",
       "      <th>MaritalStatus</th>\n",
       "      <th>NumberOfTrips</th>\n",
       "      <th>Passport</th>\n",
       "      <th>PitchSatisfactionScore</th>\n",
       "      <th>OwnCar</th>\n",
       "      <th>NumberOfChildrenVisited</th>\n",
       "      <th>Designation</th>\n",
       "      <th>MonthlyIncome</th>\n",
       "    </tr>\n",
       "  </thead>\n",
       "  <tbody>\n",
       "    <tr>\n",
       "      <th>count</th>\n",
       "      <td>4888.000000</td>\n",
       "      <td>4662.000000</td>\n",
       "      <td>4863</td>\n",
       "      <td>4888.000000</td>\n",
       "      <td>4637.000000</td>\n",
       "      <td>4888</td>\n",
       "      <td>4888</td>\n",
       "      <td>4888.000000</td>\n",
       "      <td>4843.000000</td>\n",
       "      <td>4888</td>\n",
       "      <td>4862.000000</td>\n",
       "      <td>4888</td>\n",
       "      <td>4748.000000</td>\n",
       "      <td>4888.0</td>\n",
       "      <td>4888.000000</td>\n",
       "      <td>4888.0</td>\n",
       "      <td>4822.000000</td>\n",
       "      <td>4888</td>\n",
       "      <td>4655.000000</td>\n",
       "    </tr>\n",
       "    <tr>\n",
       "      <th>unique</th>\n",
       "      <td>NaN</td>\n",
       "      <td>NaN</td>\n",
       "      <td>2</td>\n",
       "      <td>NaN</td>\n",
       "      <td>NaN</td>\n",
       "      <td>4</td>\n",
       "      <td>3</td>\n",
       "      <td>NaN</td>\n",
       "      <td>NaN</td>\n",
       "      <td>5</td>\n",
       "      <td>NaN</td>\n",
       "      <td>4</td>\n",
       "      <td>NaN</td>\n",
       "      <td>2.0</td>\n",
       "      <td>NaN</td>\n",
       "      <td>2.0</td>\n",
       "      <td>NaN</td>\n",
       "      <td>5</td>\n",
       "      <td>NaN</td>\n",
       "    </tr>\n",
       "    <tr>\n",
       "      <th>top</th>\n",
       "      <td>NaN</td>\n",
       "      <td>NaN</td>\n",
       "      <td>Self Enquiry</td>\n",
       "      <td>NaN</td>\n",
       "      <td>NaN</td>\n",
       "      <td>Salaried</td>\n",
       "      <td>Male</td>\n",
       "      <td>NaN</td>\n",
       "      <td>NaN</td>\n",
       "      <td>Multi</td>\n",
       "      <td>NaN</td>\n",
       "      <td>Married</td>\n",
       "      <td>NaN</td>\n",
       "      <td>0.0</td>\n",
       "      <td>NaN</td>\n",
       "      <td>1.0</td>\n",
       "      <td>NaN</td>\n",
       "      <td>Executive</td>\n",
       "      <td>NaN</td>\n",
       "    </tr>\n",
       "    <tr>\n",
       "      <th>freq</th>\n",
       "      <td>NaN</td>\n",
       "      <td>NaN</td>\n",
       "      <td>3444</td>\n",
       "      <td>NaN</td>\n",
       "      <td>NaN</td>\n",
       "      <td>2368</td>\n",
       "      <td>2916</td>\n",
       "      <td>NaN</td>\n",
       "      <td>NaN</td>\n",
       "      <td>1842</td>\n",
       "      <td>NaN</td>\n",
       "      <td>2340</td>\n",
       "      <td>NaN</td>\n",
       "      <td>3466.0</td>\n",
       "      <td>NaN</td>\n",
       "      <td>3032.0</td>\n",
       "      <td>NaN</td>\n",
       "      <td>1842</td>\n",
       "      <td>NaN</td>\n",
       "    </tr>\n",
       "    <tr>\n",
       "      <th>mean</th>\n",
       "      <td>0.188216</td>\n",
       "      <td>37.622265</td>\n",
       "      <td>NaN</td>\n",
       "      <td>1.654255</td>\n",
       "      <td>15.490835</td>\n",
       "      <td>NaN</td>\n",
       "      <td>NaN</td>\n",
       "      <td>2.905074</td>\n",
       "      <td>3.708445</td>\n",
       "      <td>NaN</td>\n",
       "      <td>3.581037</td>\n",
       "      <td>NaN</td>\n",
       "      <td>3.236521</td>\n",
       "      <td>NaN</td>\n",
       "      <td>3.078151</td>\n",
       "      <td>NaN</td>\n",
       "      <td>1.187267</td>\n",
       "      <td>NaN</td>\n",
       "      <td>23619.853491</td>\n",
       "    </tr>\n",
       "    <tr>\n",
       "      <th>std</th>\n",
       "      <td>0.390925</td>\n",
       "      <td>9.316387</td>\n",
       "      <td>NaN</td>\n",
       "      <td>0.916583</td>\n",
       "      <td>8.519643</td>\n",
       "      <td>NaN</td>\n",
       "      <td>NaN</td>\n",
       "      <td>0.724891</td>\n",
       "      <td>1.002509</td>\n",
       "      <td>NaN</td>\n",
       "      <td>0.798009</td>\n",
       "      <td>NaN</td>\n",
       "      <td>1.849019</td>\n",
       "      <td>NaN</td>\n",
       "      <td>1.365792</td>\n",
       "      <td>NaN</td>\n",
       "      <td>0.857861</td>\n",
       "      <td>NaN</td>\n",
       "      <td>5380.698361</td>\n",
       "    </tr>\n",
       "    <tr>\n",
       "      <th>min</th>\n",
       "      <td>0.000000</td>\n",
       "      <td>18.000000</td>\n",
       "      <td>NaN</td>\n",
       "      <td>1.000000</td>\n",
       "      <td>5.000000</td>\n",
       "      <td>NaN</td>\n",
       "      <td>NaN</td>\n",
       "      <td>1.000000</td>\n",
       "      <td>1.000000</td>\n",
       "      <td>NaN</td>\n",
       "      <td>3.000000</td>\n",
       "      <td>NaN</td>\n",
       "      <td>1.000000</td>\n",
       "      <td>NaN</td>\n",
       "      <td>1.000000</td>\n",
       "      <td>NaN</td>\n",
       "      <td>0.000000</td>\n",
       "      <td>NaN</td>\n",
       "      <td>1000.000000</td>\n",
       "    </tr>\n",
       "    <tr>\n",
       "      <th>25%</th>\n",
       "      <td>0.000000</td>\n",
       "      <td>31.000000</td>\n",
       "      <td>NaN</td>\n",
       "      <td>1.000000</td>\n",
       "      <td>9.000000</td>\n",
       "      <td>NaN</td>\n",
       "      <td>NaN</td>\n",
       "      <td>2.000000</td>\n",
       "      <td>3.000000</td>\n",
       "      <td>NaN</td>\n",
       "      <td>3.000000</td>\n",
       "      <td>NaN</td>\n",
       "      <td>2.000000</td>\n",
       "      <td>NaN</td>\n",
       "      <td>2.000000</td>\n",
       "      <td>NaN</td>\n",
       "      <td>1.000000</td>\n",
       "      <td>NaN</td>\n",
       "      <td>20346.000000</td>\n",
       "    </tr>\n",
       "    <tr>\n",
       "      <th>50%</th>\n",
       "      <td>0.000000</td>\n",
       "      <td>36.000000</td>\n",
       "      <td>NaN</td>\n",
       "      <td>1.000000</td>\n",
       "      <td>13.000000</td>\n",
       "      <td>NaN</td>\n",
       "      <td>NaN</td>\n",
       "      <td>3.000000</td>\n",
       "      <td>4.000000</td>\n",
       "      <td>NaN</td>\n",
       "      <td>3.000000</td>\n",
       "      <td>NaN</td>\n",
       "      <td>3.000000</td>\n",
       "      <td>NaN</td>\n",
       "      <td>3.000000</td>\n",
       "      <td>NaN</td>\n",
       "      <td>1.000000</td>\n",
       "      <td>NaN</td>\n",
       "      <td>22347.000000</td>\n",
       "    </tr>\n",
       "    <tr>\n",
       "      <th>75%</th>\n",
       "      <td>0.000000</td>\n",
       "      <td>44.000000</td>\n",
       "      <td>NaN</td>\n",
       "      <td>3.000000</td>\n",
       "      <td>20.000000</td>\n",
       "      <td>NaN</td>\n",
       "      <td>NaN</td>\n",
       "      <td>3.000000</td>\n",
       "      <td>4.000000</td>\n",
       "      <td>NaN</td>\n",
       "      <td>4.000000</td>\n",
       "      <td>NaN</td>\n",
       "      <td>4.000000</td>\n",
       "      <td>NaN</td>\n",
       "      <td>4.000000</td>\n",
       "      <td>NaN</td>\n",
       "      <td>2.000000</td>\n",
       "      <td>NaN</td>\n",
       "      <td>25571.000000</td>\n",
       "    </tr>\n",
       "    <tr>\n",
       "      <th>max</th>\n",
       "      <td>1.000000</td>\n",
       "      <td>61.000000</td>\n",
       "      <td>NaN</td>\n",
       "      <td>3.000000</td>\n",
       "      <td>127.000000</td>\n",
       "      <td>NaN</td>\n",
       "      <td>NaN</td>\n",
       "      <td>5.000000</td>\n",
       "      <td>6.000000</td>\n",
       "      <td>NaN</td>\n",
       "      <td>5.000000</td>\n",
       "      <td>NaN</td>\n",
       "      <td>22.000000</td>\n",
       "      <td>NaN</td>\n",
       "      <td>5.000000</td>\n",
       "      <td>NaN</td>\n",
       "      <td>3.000000</td>\n",
       "      <td>NaN</td>\n",
       "      <td>98678.000000</td>\n",
       "    </tr>\n",
       "  </tbody>\n",
       "</table>\n",
       "</div>"
      ],
      "text/plain": [
       "          ProdTaken          Age PreferredLoginDevice     CityTier  \\\n",
       "count   4888.000000  4662.000000                 4863  4888.000000   \n",
       "unique          NaN          NaN                    2          NaN   \n",
       "top             NaN          NaN         Self Enquiry          NaN   \n",
       "freq            NaN          NaN                 3444          NaN   \n",
       "mean       0.188216    37.622265                  NaN     1.654255   \n",
       "std        0.390925     9.316387                  NaN     0.916583   \n",
       "min        0.000000    18.000000                  NaN     1.000000   \n",
       "25%        0.000000    31.000000                  NaN     1.000000   \n",
       "50%        0.000000    36.000000                  NaN     1.000000   \n",
       "75%        0.000000    44.000000                  NaN     3.000000   \n",
       "max        1.000000    61.000000                  NaN     3.000000   \n",
       "\n",
       "        DurationOfPitch Occupation Gender  NumberOfPersonVisited  \\\n",
       "count       4637.000000       4888   4888            4888.000000   \n",
       "unique              NaN          4      3                    NaN   \n",
       "top                 NaN   Salaried   Male                    NaN   \n",
       "freq                NaN       2368   2916                    NaN   \n",
       "mean          15.490835        NaN    NaN               2.905074   \n",
       "std            8.519643        NaN    NaN               0.724891   \n",
       "min            5.000000        NaN    NaN               1.000000   \n",
       "25%            9.000000        NaN    NaN               2.000000   \n",
       "50%           13.000000        NaN    NaN               3.000000   \n",
       "75%           20.000000        NaN    NaN               3.000000   \n",
       "max          127.000000        NaN    NaN               5.000000   \n",
       "\n",
       "        NumberOfFollowups ProductPitched  PreferredPropertyStar MaritalStatus  \\\n",
       "count         4843.000000           4888            4862.000000          4888   \n",
       "unique                NaN              5                    NaN             4   \n",
       "top                   NaN          Multi                    NaN       Married   \n",
       "freq                  NaN           1842                    NaN          2340   \n",
       "mean             3.708445            NaN               3.581037           NaN   \n",
       "std              1.002509            NaN               0.798009           NaN   \n",
       "min              1.000000            NaN               3.000000           NaN   \n",
       "25%              3.000000            NaN               3.000000           NaN   \n",
       "50%              4.000000            NaN               3.000000           NaN   \n",
       "75%              4.000000            NaN               4.000000           NaN   \n",
       "max              6.000000            NaN               5.000000           NaN   \n",
       "\n",
       "        NumberOfTrips  Passport  PitchSatisfactionScore  OwnCar  \\\n",
       "count     4748.000000    4888.0             4888.000000  4888.0   \n",
       "unique            NaN       2.0                     NaN     2.0   \n",
       "top               NaN       0.0                     NaN     1.0   \n",
       "freq              NaN    3466.0                     NaN  3032.0   \n",
       "mean         3.236521       NaN                3.078151     NaN   \n",
       "std          1.849019       NaN                1.365792     NaN   \n",
       "min          1.000000       NaN                1.000000     NaN   \n",
       "25%          2.000000       NaN                2.000000     NaN   \n",
       "50%          3.000000       NaN                3.000000     NaN   \n",
       "75%          4.000000       NaN                4.000000     NaN   \n",
       "max         22.000000       NaN                5.000000     NaN   \n",
       "\n",
       "        NumberOfChildrenVisited Designation  MonthlyIncome  \n",
       "count               4822.000000        4888    4655.000000  \n",
       "unique                      NaN           5            NaN  \n",
       "top                         NaN   Executive            NaN  \n",
       "freq                        NaN        1842            NaN  \n",
       "mean                   1.187267         NaN   23619.853491  \n",
       "std                    0.857861         NaN    5380.698361  \n",
       "min                    0.000000         NaN    1000.000000  \n",
       "25%                    1.000000         NaN   20346.000000  \n",
       "50%                    1.000000         NaN   22347.000000  \n",
       "75%                    2.000000         NaN   25571.000000  \n",
       "max                    3.000000         NaN   98678.000000  "
      ]
     },
     "execution_count": 6,
     "metadata": {},
     "output_type": "execute_result"
    }
   ],
   "source": [
    "df.describe(include=\"all\")"
   ]
  },
  {
   "cell_type": "markdown",
   "metadata": {},
   "source": [
    "**Key Observation from Data Description**\n",
    "\n",
    "a) The everage age of customers is 38 years. The youngest is 18 years while the oldest is 61 years old.\n",
    "\n",
    "b) It takes 15 minutes on everage to sell the the package to customer. Five minutes was fastest time to it took to sell the package, while 2 hour 7 minutes was the longest time it took to sell the package. \n",
    "\n",
    "c) Males and persons who were earning salary income were constant customers. Majority of salary earners were executives. \n",
    "\n",
    "d) The packages were polular to married customers"
   ]
  },
  {
   "cell_type": "code",
   "execution_count": 7,
   "metadata": {},
   "outputs": [],
   "source": [
    "df.Passport = df.Passport.astype(\"int64\")\n",
    "df.OwnCar = df.OwnCar.astype(\"int64\");"
   ]
  },
  {
   "cell_type": "code",
   "execution_count": 8,
   "metadata": {},
   "outputs": [],
   "source": [
    "df.replace(\"Fe Male\",\"Female\", inplace=True); #Make comment on this"
   ]
  },
  {
   "cell_type": "markdown",
   "metadata": {},
   "source": [
    "**Replacement Made**\n",
    "\n",
    "- It was decided that \"Fe male\" label was meant for \"Female\" label. Consequently, the \"Fe male\" label was replace by Female label.  "
   ]
  },
  {
   "cell_type": "code",
   "execution_count": 9,
   "metadata": {},
   "outputs": [
    {
     "data": {
      "text/plain": [
       "1    3032\n",
       "0    1856\n",
       "Name: OwnCar, dtype: int64"
      ]
     },
     "execution_count": 9,
     "metadata": {},
     "output_type": "execute_result"
    }
   ],
   "source": [
    "df.OwnCar.value_counts() #check this relationship OwnCar vs Passport"
   ]
  },
  {
   "cell_type": "code",
   "execution_count": 10,
   "metadata": {},
   "outputs": [
    {
     "data": {
      "text/plain": [
       "Executive         1842\n",
       "Manager           1732\n",
       "Senior Manager     742\n",
       "AVP                342\n",
       "VP                 230\n",
       "Name: Designation, dtype: int64"
      ]
     },
     "execution_count": 10,
     "metadata": {},
     "output_type": "execute_result"
    }
   ],
   "source": [
    "df.Designation.value_counts()"
   ]
  },
  {
   "cell_type": "code",
   "execution_count": 11,
   "metadata": {},
   "outputs": [
    {
     "data": {
      "text/plain": [
       "Index(['ProdTaken', 'Age', 'CityTier', 'DurationOfPitch',\n",
       "       'NumberOfPersonVisited', 'NumberOfFollowups', 'PreferredPropertyStar',\n",
       "       'NumberOfTrips', 'Passport', 'PitchSatisfactionScore', 'OwnCar',\n",
       "       'NumberOfChildrenVisited', 'MonthlyIncome'],\n",
       "      dtype='object')"
      ]
     },
     "execution_count": 11,
     "metadata": {},
     "output_type": "execute_result"
    }
   ],
   "source": [
    "df._get_numeric_data().columns"
   ]
  },
  {
   "cell_type": "markdown",
   "metadata": {},
   "source": [
    "#  DATA PREPROCESSING AND EXPOLORATORY DATA ANALYSIS"
   ]
  },
  {
   "cell_type": "code",
   "execution_count": 12,
   "metadata": {},
   "outputs": [],
   "source": [
    "# Function to plot histogram and boxplot for numerical variables as we study the \n",
    "# central tendency and dispersion for such values\n",
    "def histogram_boxplot(feature, figsize=(10,8), bins = None):\n",
    "    \"\"\" \n",
    "    Boxplot and histogram combined with shared axis\n",
    "    feature: 1-d feature array\n",
    "    figsize: size of fig (default (10,8))\n",
    "    bins: number of bins (default None / auto)\n",
    "    \n",
    "    \"\"\"\n",
    "    f2, (ax_box2, ax_hist2) = plt.subplots(nrows = 2, # Number of rows of the subplot grid= 2\n",
    "                                           sharex = True, # x-axis will be shared among all subplots\n",
    "                                           gridspec_kw = {\"height_ratios\": (.25, .75)}, \n",
    "                                           figsize = figsize \n",
    "                                           ) # creating the 2 subplots\n",
    "    sns.boxplot(feature, ax=ax_box2, showmeans=True, color='red') # boxplot will be created and a star will indicate the mean value of the column\n",
    "    sns.distplot(feature, kde=False, ax=ax_hist2, bins=bins) if bins else sns.distplot(feature, kde=False, ax=ax_hist2) # For histogram\n",
    "    ax_hist2.axvline(np.mean(feature), color='g', linestyle='--') # Add mean to the histogram\n",
    "    ax_hist2.axvline(np.median(feature), color='black', linestyle='-') # Add median to the histogram"
   ]
  },
  {
   "cell_type": "code",
   "execution_count": 13,
   "metadata": {},
   "outputs": [
    {
     "data": {
      "text/html": [
       "<div>\n",
       "<style scoped>\n",
       "    .dataframe tbody tr th:only-of-type {\n",
       "        vertical-align: middle;\n",
       "    }\n",
       "\n",
       "    .dataframe tbody tr th {\n",
       "        vertical-align: top;\n",
       "    }\n",
       "\n",
       "    .dataframe thead th {\n",
       "        text-align: right;\n",
       "    }\n",
       "</style>\n",
       "<table border=\"1\" class=\"dataframe\">\n",
       "  <thead>\n",
       "    <tr style=\"text-align: right;\">\n",
       "      <th></th>\n",
       "      <th>ProdTaken</th>\n",
       "      <th>Age</th>\n",
       "      <th>PreferredLoginDevice</th>\n",
       "      <th>CityTier</th>\n",
       "      <th>DurationOfPitch</th>\n",
       "      <th>Occupation</th>\n",
       "      <th>Gender</th>\n",
       "      <th>NumberOfPersonVisited</th>\n",
       "      <th>NumberOfFollowups</th>\n",
       "      <th>ProductPitched</th>\n",
       "      <th>PreferredPropertyStar</th>\n",
       "      <th>MaritalStatus</th>\n",
       "      <th>NumberOfTrips</th>\n",
       "      <th>Passport</th>\n",
       "      <th>PitchSatisfactionScore</th>\n",
       "      <th>OwnCar</th>\n",
       "      <th>NumberOfChildrenVisited</th>\n",
       "      <th>Designation</th>\n",
       "      <th>MonthlyIncome</th>\n",
       "    </tr>\n",
       "  </thead>\n",
       "  <tbody>\n",
       "    <tr>\n",
       "      <th>0</th>\n",
       "      <td>1</td>\n",
       "      <td>41.0</td>\n",
       "      <td>Self Enquiry</td>\n",
       "      <td>3</td>\n",
       "      <td>6.0</td>\n",
       "      <td>Salaried</td>\n",
       "      <td>Female</td>\n",
       "      <td>3</td>\n",
       "      <td>3.0</td>\n",
       "      <td>Super Deluxe</td>\n",
       "      <td>3.0</td>\n",
       "      <td>Single</td>\n",
       "      <td>1.0</td>\n",
       "      <td>1</td>\n",
       "      <td>2</td>\n",
       "      <td>1</td>\n",
       "      <td>0.0</td>\n",
       "      <td>Manager</td>\n",
       "      <td>20993.0</td>\n",
       "    </tr>\n",
       "    <tr>\n",
       "      <th>1</th>\n",
       "      <td>0</td>\n",
       "      <td>49.0</td>\n",
       "      <td>Company Invited</td>\n",
       "      <td>1</td>\n",
       "      <td>14.0</td>\n",
       "      <td>Salaried</td>\n",
       "      <td>Male</td>\n",
       "      <td>3</td>\n",
       "      <td>4.0</td>\n",
       "      <td>Super Deluxe</td>\n",
       "      <td>4.0</td>\n",
       "      <td>Divorced</td>\n",
       "      <td>2.0</td>\n",
       "      <td>0</td>\n",
       "      <td>3</td>\n",
       "      <td>1</td>\n",
       "      <td>2.0</td>\n",
       "      <td>Manager</td>\n",
       "      <td>20130.0</td>\n",
       "    </tr>\n",
       "    <tr>\n",
       "      <th>2</th>\n",
       "      <td>1</td>\n",
       "      <td>37.0</td>\n",
       "      <td>Self Enquiry</td>\n",
       "      <td>1</td>\n",
       "      <td>8.0</td>\n",
       "      <td>Free Lancer</td>\n",
       "      <td>Male</td>\n",
       "      <td>3</td>\n",
       "      <td>4.0</td>\n",
       "      <td>Multi</td>\n",
       "      <td>3.0</td>\n",
       "      <td>Single</td>\n",
       "      <td>7.0</td>\n",
       "      <td>1</td>\n",
       "      <td>3</td>\n",
       "      <td>0</td>\n",
       "      <td>0.0</td>\n",
       "      <td>Executive</td>\n",
       "      <td>17090.0</td>\n",
       "    </tr>\n",
       "    <tr>\n",
       "      <th>3</th>\n",
       "      <td>0</td>\n",
       "      <td>33.0</td>\n",
       "      <td>Company Invited</td>\n",
       "      <td>1</td>\n",
       "      <td>9.0</td>\n",
       "      <td>Salaried</td>\n",
       "      <td>Female</td>\n",
       "      <td>2</td>\n",
       "      <td>3.0</td>\n",
       "      <td>Multi</td>\n",
       "      <td>3.0</td>\n",
       "      <td>Divorced</td>\n",
       "      <td>2.0</td>\n",
       "      <td>1</td>\n",
       "      <td>5</td>\n",
       "      <td>1</td>\n",
       "      <td>1.0</td>\n",
       "      <td>Executive</td>\n",
       "      <td>17909.0</td>\n",
       "    </tr>\n",
       "    <tr>\n",
       "      <th>4</th>\n",
       "      <td>0</td>\n",
       "      <td>NaN</td>\n",
       "      <td>Self Enquiry</td>\n",
       "      <td>1</td>\n",
       "      <td>8.0</td>\n",
       "      <td>Small Business</td>\n",
       "      <td>Male</td>\n",
       "      <td>2</td>\n",
       "      <td>3.0</td>\n",
       "      <td>Multi</td>\n",
       "      <td>4.0</td>\n",
       "      <td>Divorced</td>\n",
       "      <td>1.0</td>\n",
       "      <td>0</td>\n",
       "      <td>5</td>\n",
       "      <td>1</td>\n",
       "      <td>0.0</td>\n",
       "      <td>Executive</td>\n",
       "      <td>18468.0</td>\n",
       "    </tr>\n",
       "  </tbody>\n",
       "</table>\n",
       "</div>"
      ],
      "text/plain": [
       "   ProdTaken   Age PreferredLoginDevice  CityTier  DurationOfPitch  \\\n",
       "0          1  41.0         Self Enquiry         3              6.0   \n",
       "1          0  49.0      Company Invited         1             14.0   \n",
       "2          1  37.0         Self Enquiry         1              8.0   \n",
       "3          0  33.0      Company Invited         1              9.0   \n",
       "4          0   NaN         Self Enquiry         1              8.0   \n",
       "\n",
       "       Occupation  Gender  NumberOfPersonVisited  NumberOfFollowups  \\\n",
       "0        Salaried  Female                      3                3.0   \n",
       "1        Salaried    Male                      3                4.0   \n",
       "2     Free Lancer    Male                      3                4.0   \n",
       "3        Salaried  Female                      2                3.0   \n",
       "4  Small Business    Male                      2                3.0   \n",
       "\n",
       "  ProductPitched  PreferredPropertyStar MaritalStatus  NumberOfTrips  \\\n",
       "0   Super Deluxe                    3.0        Single            1.0   \n",
       "1   Super Deluxe                    4.0      Divorced            2.0   \n",
       "2          Multi                    3.0        Single            7.0   \n",
       "3          Multi                    3.0      Divorced            2.0   \n",
       "4          Multi                    4.0      Divorced            1.0   \n",
       "\n",
       "   Passport  PitchSatisfactionScore  OwnCar  NumberOfChildrenVisited  \\\n",
       "0         1                       2       1                      0.0   \n",
       "1         0                       3       1                      2.0   \n",
       "2         1                       3       0                      0.0   \n",
       "3         1                       5       1                      1.0   \n",
       "4         0                       5       1                      0.0   \n",
       "\n",
       "  Designation  MonthlyIncome  \n",
       "0     Manager        20993.0  \n",
       "1     Manager        20130.0  \n",
       "2   Executive        17090.0  \n",
       "3   Executive        17909.0  \n",
       "4   Executive        18468.0  "
      ]
     },
     "execution_count": 13,
     "metadata": {},
     "output_type": "execute_result"
    }
   ],
   "source": [
    "df.head()"
   ]
  },
  {
   "cell_type": "code",
   "execution_count": 14,
   "metadata": {},
   "outputs": [
    {
     "name": "stdout",
     "output_type": "stream",
     "text": [
      "Age ,Skew 0.38\n"
     ]
    },
    {
     "data": {
      "image/png": "[encoded data removed]",
      "text/plain": [
       "<Figure size 720x576 with 2 Axes>"
      ]
     },
     "metadata": {
      "needs_background": "light"
     },
     "output_type": "display_data"
    },
    {
     "name": "stdout",
     "output_type": "stream",
     "text": [
      "MonthlyIncome ,Skew 1.95\n"
     ]
    },
    {
     "data": {
      "image/png": "[encoded data removed]",
      "text/plain": [
       "<Figure size 720x576 with 2 Axes>"
      ]
     },
     "metadata": {
      "needs_background": "light"
     },
     "output_type": "display_data"
    },
    {
     "name": "stdout",
     "output_type": "stream",
     "text": [
      "DurationOfPitch ,Skew 1.75\n"
     ]
    },
    {
     "data": {
      "image/png": "[encoded data removed]",
      "text/plain": [
       "<Figure size 720x576 with 2 Axes>"
      ]
     },
     "metadata": {
      "needs_background": "light"
     },
     "output_type": "display_data"
    },
    {
     "name": "stdout",
     "output_type": "stream",
     "text": [
      "NumberOfPersonVisited ,Skew 0.03\n"
     ]
    },
    {
     "data": {
      "image/png": "[encoded data removed]",
      "text/plain": [
       "<Figure size 720x576 with 2 Axes>"
      ]
     },
     "metadata": {
      "needs_background": "light"
     },
     "output_type": "display_data"
    },
    {
     "name": "stdout",
     "output_type": "stream",
     "text": [
      "NumberOfFollowups ,Skew -0.37\n"
     ]
    },
    {
     "data": {
      "image/png": "[encoded data removed]",
      "text/plain": [
       "<Figure size 720x576 with 2 Axes>"
      ]
     },
     "metadata": {
      "needs_background": "light"
     },
     "output_type": "display_data"
    },
    {
     "name": "stdout",
     "output_type": "stream",
     "text": [
      "PreferredPropertyStar ,Skew 0.9\n"
     ]
    },
    {
     "data": {
      "image/png": "[encoded data removed]",
      "text/plain": [
       "<Figure size 720x576 with 2 Axes>"
      ]
     },
     "metadata": {
      "needs_background": "light"
     },
     "output_type": "display_data"
    },
    {
     "name": "stdout",
     "output_type": "stream",
     "text": [
      "NumberOfTrips ,Skew 1.45\n"
     ]
    },
    {
     "data": {
      "image/png": "[encoded data removed]",
      "text/plain": [
       "<Figure size 720x576 with 2 Axes>"
      ]
     },
     "metadata": {
      "needs_background": "light"
     },
     "output_type": "display_data"
    },
    {
     "name": "stdout",
     "output_type": "stream",
     "text": [
      "PitchSatisfactionScore ,Skew -0.13\n"
     ]
    },
    {
     "data": {
      "image/png": "[encoded data removed]",
      "text/plain": [
       "<Figure size 720x576 with 2 Axes>"
      ]
     },
     "metadata": {
      "needs_background": "light"
     },
     "output_type": "display_data"
    },
    {
     "name": "stdout",
     "output_type": "stream",
     "text": [
      "NumberOfChildrenVisited ,Skew 0.27\n"
     ]
    },
    {
     "data": {
      "image/png": "[encoded data removed]",
      "text/plain": [
       "<Figure size 720x576 with 2 Axes>"
      ]
     },
     "metadata": {
      "needs_background": "light"
     },
     "output_type": "display_data"
    }
   ],
   "source": [
    "n_cols = [\"Age\", \"MonthlyIncome\", \"DurationOfPitch\",\"NumberOfPersonVisited\",\\\n",
    "          \"NumberOfFollowups\", \"PreferredPropertyStar\", \"NumberOfTrips\", \\\n",
    "          \"PitchSatisfactionScore\", \"NumberOfChildrenVisited\"]\n",
    "\n",
    "for col in n_cols:\n",
    "    print(col,\",Skew\", round(df[col].skew(),2))\n",
    "    histogram_boxplot(feature=df[col])\n",
    "    plt.show()"
   ]
  },
  {
   "cell_type": "markdown",
   "metadata": {},
   "source": [
    "**Remarks (On descriptive stats, skewness, outliers, etc of numerical columns):**\n",
    "\n",
    "- Age has an average of around 37. Age has no outlier and slightly skewed to the left.\n",
    "- MonthlyIncome with an average of around 23,000 is skewed to the right and with outliers to both ends. Skewness for such a variable as Income is as expected because it is a natural phenomenon to a few people early so high.\n",
    "- DurationPitch is skewed to the right. On average pitching time is around 18 minutes with extraordinary upper outliers with a pitch time of above 120 minutes (2hours).\n",
    "- Majority of tourists visited in 3s with one group (or a few) with 5 people. One person hardly showed up for the touring.\n",
    "- NumberOfTrips is highly skewed to the right with upper outliers and on average a person or a group makes 3 visits. Few people and groups made around 20 trips."
   ]
  },
  {
   "cell_type": "code",
   "execution_count": 15,
   "metadata": {},
   "outputs": [
    {
     "data": {
      "image/png": "[encoded data removed]",
      "text/plain": [
       "<Figure size 720x576 with 1 Axes>"
      ]
     },
     "metadata": {
      "needs_background": "light"
     },
     "output_type": "display_data"
    }
   ],
   "source": [
    "plt.figure(figsize=(10,8))\n",
    "sns.barplot(df.Gender, df.MonthlyIncome)\n",
    "plt.show()"
   ]
  },
  {
   "cell_type": "code",
   "execution_count": 16,
   "metadata": {},
   "outputs": [
    {
     "name": "stdout",
     "output_type": "stream",
     "text": [
      "Gender          Female  Male   All\n",
      "Occupation                        \n",
      "Free Lancer          0     2     2\n",
      "Large Business     178   256   434\n",
      "Salaried           942  1426  2368\n",
      "Small Business     852  1232  2084\n",
      "All               1972  2916  4888\n",
      "------------------------------------------------------------------------------------------------------------------------\n"
     ]
    },
    {
     "data": {
      "image/png": "[encoded data removed]",
      "text/plain": [
       "<Figure size 1080x576 with 1 Axes>"
      ]
     },
     "metadata": {
      "needs_background": "light"
     },
     "output_type": "display_data"
    }
   ],
   "source": [
    "tab1 = pd.crosstab(df.Occupation, df.Gender, margins=True)\n",
    "print(tab1)\n",
    "\n",
    "print('-'*120)\n",
    "tab = pd.crosstab(df.Occupation,df.Gender,normalize='index')\n",
    "tab.plot(kind='bar',stacked=True,figsize=(15,8))\n",
    "plt.axhline(y=0.5,linewidth=1, color='k', label=\"threshold at 0.5\")\n",
    "plt.legend(loc=\"upper left\", bbox_to_anchor=(1,1));"
   ]
  },
  {
   "cell_type": "code",
   "execution_count": 17,
   "metadata": {},
   "outputs": [
    {
     "data": {
      "image/png": "[encoded data removed]",
      "text/plain": [
       "<Figure size 720x576 with 1 Axes>"
      ]
     },
     "metadata": {
      "needs_background": "light"
     },
     "output_type": "display_data"
    }
   ],
   "source": [
    "plt.figure(figsize=(10,8))\n",
    "sns.countplot(df.OwnCar, hue=df.Gender)\n",
    "plt.show()"
   ]
  },
  {
   "cell_type": "code",
   "execution_count": 18,
   "metadata": {},
   "outputs": [
    {
     "name": "stdout",
     "output_type": "stream",
     "text": [
      "Gender  Female  Male   All\n",
      "OwnCar                    \n",
      "0          730  1126  1856\n",
      "1         1242  1790  3032\n",
      "All       1972  2916  4888\n",
      "------------------------------------------------------------------------------------------------------------------------\n"
     ]
    },
    {
     "data": {
      "image/png": "[encoded data removed]",
      "text/plain": [
       "<Figure size 1080x576 with 1 Axes>"
      ]
     },
     "metadata": {
      "needs_background": "light"
     },
     "output_type": "display_data"
    }
   ],
   "source": [
    "tab2 = pd.crosstab(df.OwnCar, df.Gender, margins=True)\n",
    "print(tab2)\n",
    "\n",
    "print('-'*120)\n",
    "tab22 = pd.crosstab(df.OwnCar,df.Gender,normalize='index')\n",
    "tab22.plot(kind='bar',stacked=True,figsize=(15,8))\n",
    "plt.axhline(y=0.5,linewidth=1, color='k', label=\"threshold at 0.5\")\n",
    "plt.legend(loc=\"upper left\", bbox_to_anchor=(1,1));"
   ]
  },
  {
   "cell_type": "code",
   "execution_count": 19,
   "metadata": {},
   "outputs": [
    {
     "name": "stdout",
     "output_type": "stream",
     "text": [
      "Gender          Female  Male   All\n",
      "Occupation                        \n",
      "Free Lancer          0     2     2\n",
      "Large Business     178   256   434\n",
      "Salaried           942  1426  2368\n",
      "Small Business     852  1232  2084\n",
      "All               1972  2916  4888\n",
      "------------------------------------------------------------------------------------------------------------------------\n"
     ]
    },
    {
     "data": {
      "image/png": "[encoded data removed]",
      "text/plain": [
       "<Figure size 1080x576 with 1 Axes>"
      ]
     },
     "metadata": {
      "needs_background": "light"
     },
     "output_type": "display_data"
    }
   ],
   "source": [
    "tab2 = pd.crosstab(df.Occupation, df.Gender, margins=True)\n",
    "print(tab2)\n",
    "\n",
    "print('-'*120)\n",
    "tab22 = pd.crosstab(df.Occupation,df.Gender,normalize='index')\n",
    "tab22.plot(kind='bar',stacked=True,figsize=(15,8))\n",
    "plt.axhline(y=0.5,linewidth=1, color='k', label=\"threshold at 0.5\")\n",
    "plt.legend(loc=\"upper left\", bbox_to_anchor=(1,1));"
   ]
  },
  {
   "cell_type": "code",
   "execution_count": 20,
   "metadata": {},
   "outputs": [
    {
     "data": {
      "text/plain": [
       "<Figure size 1080x648 with 0 Axes>"
      ]
     },
     "metadata": {},
     "output_type": "display_data"
    },
    {
     "data": {
      "image/png": "[encoded data removed]",
      "text/plain": [
       "<Figure size 931.4x595.44 with 1 Axes>"
      ]
     },
     "metadata": {
      "needs_background": "light"
     },
     "output_type": "display_data"
    }
   ],
   "source": [
    "# lets us look at normalized chart of age vs marital status\n",
    "plt.figure(figsize=(15,9))\n",
    "sns.displot(\n",
    "    data=df,\n",
    "    x=\"Age\", hue=\"MaritalStatus\",\n",
    "    kind=\"kde\",\n",
    "    multiple=\"fill\", \n",
    "    height=8.27, aspect=11.7/8.27\n",
    ");"
   ]
  },
  {
   "cell_type": "code",
   "execution_count": 21,
   "metadata": {},
   "outputs": [
    {
     "data": {
      "text/html": [
       "<div>\n",
       "<style scoped>\n",
       "    .dataframe tbody tr th:only-of-type {\n",
       "        vertical-align: middle;\n",
       "    }\n",
       "\n",
       "    .dataframe tbody tr th {\n",
       "        vertical-align: top;\n",
       "    }\n",
       "\n",
       "    .dataframe thead th {\n",
       "        text-align: right;\n",
       "    }\n",
       "</style>\n",
       "<table border=\"1\" class=\"dataframe\">\n",
       "  <thead>\n",
       "    <tr style=\"text-align: right;\">\n",
       "      <th></th>\n",
       "      <th>Age</th>\n",
       "    </tr>\n",
       "    <tr>\n",
       "      <th>Gender</th>\n",
       "      <th></th>\n",
       "    </tr>\n",
       "  </thead>\n",
       "  <tbody>\n",
       "    <tr>\n",
       "      <th>Female</th>\n",
       "      <td>38.065608</td>\n",
       "    </tr>\n",
       "    <tr>\n",
       "      <th>Male</th>\n",
       "      <td>37.319986</td>\n",
       "    </tr>\n",
       "  </tbody>\n",
       "</table>\n",
       "</div>"
      ],
      "text/plain": [
       "              Age\n",
       "Gender           \n",
       "Female  38.065608\n",
       "Male    37.319986"
      ]
     },
     "execution_count": 21,
     "metadata": {},
     "output_type": "execute_result"
    }
   ],
   "source": [
    "df[[\"Age\",\"Gender\"]].groupby(\"Gender\").mean()"
   ]
  },
  {
   "cell_type": "code",
   "execution_count": 22,
   "metadata": {},
   "outputs": [
    {
     "data": {
      "text/html": [
       "<div>\n",
       "<style scoped>\n",
       "    .dataframe tbody tr th:only-of-type {\n",
       "        vertical-align: middle;\n",
       "    }\n",
       "\n",
       "    .dataframe tbody tr th {\n",
       "        vertical-align: top;\n",
       "    }\n",
       "\n",
       "    .dataframe thead th {\n",
       "        text-align: right;\n",
       "    }\n",
       "</style>\n",
       "<table border=\"1\" class=\"dataframe\">\n",
       "  <thead>\n",
       "    <tr style=\"text-align: right;\">\n",
       "      <th></th>\n",
       "      <th>DurationOfPitch</th>\n",
       "    </tr>\n",
       "    <tr>\n",
       "      <th>Gender</th>\n",
       "      <th></th>\n",
       "    </tr>\n",
       "  </thead>\n",
       "  <tbody>\n",
       "    <tr>\n",
       "      <th>Female</th>\n",
       "      <td>15.394737</td>\n",
       "    </tr>\n",
       "    <tr>\n",
       "      <th>Male</th>\n",
       "      <td>15.555315</td>\n",
       "    </tr>\n",
       "  </tbody>\n",
       "</table>\n",
       "</div>"
      ],
      "text/plain": [
       "        DurationOfPitch\n",
       "Gender                 \n",
       "Female        15.394737\n",
       "Male          15.555315"
      ]
     },
     "execution_count": 22,
     "metadata": {},
     "output_type": "execute_result"
    }
   ],
   "source": [
    "df[[\"DurationOfPitch\",\"Gender\"]].groupby(\"Gender\").mean()"
   ]
  },
  {
   "cell_type": "code",
   "execution_count": 23,
   "metadata": {},
   "outputs": [],
   "source": [
    "# A function to treat outliers.\n",
    "# Replace upper outliers with value of upper whisker and replace lower outliers with value of lower whisker.\n",
    "def treat_outliers(df,col):\n",
    "    '''\n",
    "    treats outliers in a varaible\n",
    "    col: str, name of the numerical varaible\n",
    "    df: data frame\n",
    "    col: name of the column\n",
    "    '''\n",
    "    Q1=df[col].quantile(0.25) # 25th quantile\n",
    "    Q3=df[col].quantile(0.75)  # 75th quantile\n",
    "    IQR=Q3-Q1\n",
    "    Lower_Whisker = Q1 - 1.5*IQR \n",
    "    Upper_Whisker = Q3 + 1.5*IQR\n",
    "    df[col] = np.clip(df[col], Lower_Whisker, Upper_Whisker) # all the values samller than Lower_Whisker will be assigned value of Lower_whisker \n",
    "                                                            # and all the values above upper_whishker will be assigned value of upper_Whisker \n",
    "    return df\n",
    "    "
   ]
  },
  {
   "cell_type": "code",
   "execution_count": 24,
   "metadata": {},
   "outputs": [],
   "source": [
    "# Treat outliers for columns with outliers\n",
    "treat_col = [\"MonthlyIncome\", \"DurationOfPitch\",\"NumberOfPersonVisited\",\"NumberOfFollowups\", \"NumberOfTrips\"]\n",
    "for c in treat_col:\n",
    "    df = treat_outliers(df,c)\n",
    "        "
   ]
  },
  {
   "cell_type": "code",
   "execution_count": 25,
   "metadata": {},
   "outputs": [
    {
     "data": {
      "image/png": "[encoded data removed]",
      "text/plain": [
       "<Figure size 1440x2160 with 5 Axes>"
      ]
     },
     "metadata": {
      "needs_background": "light"
     },
     "output_type": "display_data"
    }
   ],
   "source": [
    "# Check that outliers has been treated boxplot\n",
    "plt.figure(figsize=(20,30))\n",
    "for i, variable in enumerate(treat_col):\n",
    "    plt.subplot(4,2,i+1)\n",
    "    sns.boxplot(df[variable],whis=1.5)\n",
    "    plt.tight_layout()\n",
    "    plt.title(variable)\n",
    "\n",
    "plt.show()"
   ]
  },
  {
   "cell_type": "markdown",
   "metadata": {},
   "source": [
    "**Remarks (On treating outliers):**\n",
    "\n",
    "- Numeric features with outliers were treated by replacing lower outliers with lower whisker value and replace upper outliers with upper whisker value. \n",
    "- On the original data, the following feature columns was found to contain outliers: MonthlyIncome, DurationOfPitch, NumberOfPersonVisited, NumberOfFollowups, and NumberOfTrips.\n",
    "- Before and after treating outliers, we used Boxplot to check the presence of outliers and to confirm that outliers were actually treated."
   ]
  },
  {
   "cell_type": "code",
   "execution_count": 26,
   "metadata": {},
   "outputs": [
    {
     "data": {
      "text/plain": [
       "Index(['ProdTaken', 'Age', 'PreferredLoginDevice', 'CityTier',\n",
       "       'DurationOfPitch', 'Occupation', 'Gender', 'NumberOfPersonVisited',\n",
       "       'NumberOfFollowups', 'ProductPitched', 'PreferredPropertyStar',\n",
       "       'MaritalStatus', 'NumberOfTrips', 'Passport', 'PitchSatisfactionScore',\n",
       "       'OwnCar', 'NumberOfChildrenVisited', 'Designation', 'MonthlyIncome'],\n",
       "      dtype='object')"
      ]
     },
     "execution_count": 26,
     "metadata": {},
     "output_type": "execute_result"
    }
   ],
   "source": [
    "df.columns"
   ]
  },
  {
   "cell_type": "code",
   "execution_count": 27,
   "metadata": {},
   "outputs": [
    {
     "name": "stdout",
     "output_type": "stream",
     "text": [
      "{'Self Enquiry': 0.7082048118445404, 'Company Invited': 0.2917951881554596}\n"
     ]
    },
    {
     "data": {
      "image/png": "[encoded data removed]",
      "text/plain": [
       "<Figure size 720x576 with 1 Axes>"
      ]
     },
     "metadata": {
      "needs_background": "light"
     },
     "output_type": "display_data"
    },
    {
     "name": "stdout",
     "output_type": "stream",
     "text": [
      "{0: 0.8117839607201309, 1: 0.18821603927986907}\n"
     ]
    },
    {
     "data": {
      "image/png": "[encoded data removed]",
      "text/plain": [
       "<Figure size 720x576 with 1 Axes>"
      ]
     },
     "metadata": {
      "needs_background": "light"
     },
     "output_type": "display_data"
    },
    {
     "name": "stdout",
     "output_type": "stream",
     "text": [
      "{'Salaried': 0.4844517184942717, 'Small Business': 0.42635024549918166, 'Large Business': 0.08878887070376432, 'Free Lancer': 0.0004091653027823241}\n"
     ]
    },
    {
     "data": {
      "image/png": "[encoded data removed]",
      "text/plain": [
       "<Figure size 720x576 with 1 Axes>"
      ]
     },
     "metadata": {
      "needs_background": "light"
     },
     "output_type": "display_data"
    },
    {
     "name": "stdout",
     "output_type": "stream",
     "text": [
      "{'Male': 0.5965630114566285, 'Female': 0.4034369885433715}\n"
     ]
    },
    {
     "data": {
      "image/png": "[encoded data removed]",
      "text/plain": [
       "<Figure size 720x576 with 1 Axes>"
      ]
     },
     "metadata": {
      "needs_background": "light"
     },
     "output_type": "display_data"
    },
    {
     "name": "stdout",
     "output_type": "stream",
     "text": [
      "{'Multi': 0.37684124386252044, 'Super Deluxe': 0.35433715220949263, 'Standard': 0.15180032733224222, 'Deluxe': 0.06996726677577741, 'King': 0.04705400981996727}\n"
     ]
    },
    {
     "data": {
      "image/png": "[encoded data removed]",
      "text/plain": [
       "<Figure size 720x576 with 1 Axes>"
      ]
     },
     "metadata": {
      "needs_background": "light"
     },
     "output_type": "display_data"
    },
    {
     "name": "stdout",
     "output_type": "stream",
     "text": [
      "{3.0: 0.6155902920608803, 5.0: 0.19662690250925546, 4.0: 0.18778280542986425}\n"
     ]
    },
    {
     "data": {
      "image/png": "[encoded data removed]",
      "text/plain": [
       "<Figure size 720x576 with 1 Axes>"
      ]
     },
     "metadata": {
      "needs_background": "light"
     },
     "output_type": "display_data"
    },
    {
     "name": "stdout",
     "output_type": "stream",
     "text": [
      "{'Married': 0.4787234042553192, 'Divorced': 0.19435351882160393, 'Single': 0.18739770867430441, 'Unmarried': 0.1395253682487725}\n"
     ]
    },
    {
     "data": {
      "image/png": "[encoded data removed]",
      "text/plain": [
       "<Figure size 720x576 with 1 Axes>"
      ]
     },
     "metadata": {
      "needs_background": "light"
     },
     "output_type": "display_data"
    },
    {
     "name": "stdout",
     "output_type": "stream",
     "text": [
      "{0: 0.7090834697217676, 1: 0.2909165302782324}\n"
     ]
    },
    {
     "data": {
      "image/png": "[encoded data removed]",
      "text/plain": [
       "<Figure size 720x576 with 1 Axes>"
      ]
     },
     "metadata": {
      "needs_background": "light"
     },
     "output_type": "display_data"
    }
   ],
   "source": [
    "categorical_cols = [\"PreferredLoginDevice\",\"ProdTaken\",\"Occupation\", \"Gender\",\"ProductPitched\",\"PreferredPropertyStar\", \"MaritalStatus\",\"Passport\" ]\n",
    "\n",
    "for col in categorical_cols:\n",
    "    plt.figure(figsize=(10,8))\n",
    "    counts = dict(df[col].value_counts(normalize=True))\n",
    "    print(counts)\n",
    "    sns.countplot(df[col])\n",
    "    plt.show()"
   ]
  },
  {
   "cell_type": "markdown",
   "metadata": {},
   "source": [
    "**Remarks:**\n",
    "- Majority of the tourists (70.8%) self-enquired opposed to the firm reaching out.\n",
    "- Only 18.82% of the customers taken the package.\n",
    "- On coccupation, majority of the tuorists are salaried (48%) and small business owners(43%) with the Freelance being the least in the group with very few people.\n",
    "- Gender composition: 59.7% male and 40.3% female.\n",
    "- The company majorly pitched multiple packages at the same time (37.7% of the time) together with super deluxe package (35%). King was least pitched. On a business perspective, this makes sense because the company will prefer to pitch multiple packages so that the customers have the choices rather than pitch a given package (say king) and which take the power of choice away from the customer kind off. \n",
    "- Majority of the tourists (61.56%) prefer lodging to 3-star hotel.\n",
    "- On marital status, most tourists were married (48%) of the total. This figure is twice higher than the second place: divorced (19%).\n",
    "- 70.91% of the tourists has no passport and 29.1% possess a passport. Naturally, majority of the people with no passport are the domestic tourists because in most cases foreign tourists requires passport."
   ]
  },
  {
   "cell_type": "markdown",
   "metadata": {},
   "source": [
    "For data analysis purposes, packages were ranked as follows:\n",
    "\n",
    "- Basic: 0\n",
    "- Standard: 1\n",
    "- Deluxe: 2\n",
    "- Super Deluxe: 3\n",
    "- King: 4\n",
    "- Multi: 5"
   ]
  },
  {
   "cell_type": "code",
   "execution_count": 28,
   "metadata": {},
   "outputs": [],
   "source": [
    "# Ordinal columns with respective values to replace with\n",
    "rank_replace = {\n",
    "                \"ProductPitched\": {\"Basic\": 0, \"Standard\": 1, \"Deluxe\": 2, \"Super Deluxe\": 3, \"King\": 4, \"Multi\":5}\n",
    "            }\n",
    "\n",
    "# Nominal features\n",
    "to_dummies = [\"PreferredLoginDevice\", \"Occupation\", \"Gender\", \"MaritalStatus\", \"Designation\"]"
   ]
  },
  {
   "cell_type": "code",
   "execution_count": 29,
   "metadata": {},
   "outputs": [],
   "source": [
    "# Replace ordinal columns with proper number codes\n",
    "df.replace(rank_replace, inplace=True)\n",
    "\n",
    "# Create dummies for nominal features.\n",
    "df=pd.get_dummies(df, columns=to_dummies)"
   ]
  },
  {
   "cell_type": "markdown",
   "metadata": {},
   "source": [
    "**Missing data imputation:**\n",
    "\n",
    "- Attempted missing data imputation on the continous columns with mean or median values did not improve the model perfomance fitted later. For this reason we choose to drop any columns with missing values without imputation."
   ]
  },
  {
   "cell_type": "code",
   "execution_count": 32,
   "metadata": {},
   "outputs": [],
   "source": [
    "# Drop any row with missing values\n",
    "df.dropna(inplace=True)"
   ]
  },
  {
   "cell_type": "markdown",
   "metadata": {},
   "source": []
  },
  {
   "cell_type": "markdown",
   "metadata": {},
   "source": [
    "# MODELS BUILDING"
   ]
  },
  {
   "cell_type": "code",
   "execution_count": 32,
   "metadata": {},
   "outputs": [],
   "source": [
    "X = df.drop(\"ProdTaken\" , axis=1) # Features\n",
    "y = df[\"ProdTaken\"] # Target"
   ]
  },
  {
   "cell_type": "markdown",
   "metadata": {},
   "source": [
    "**Choice of performance metric:**\n",
    "\n",
    "- There are 81.18% data point of class \"0\" and only 18.82% of class \"1\". This means that accuracy metric is not an efficient metric to use to measure performance of the model because of the dominance of one group. For example I model that predicts correctly all data point of class \"0\" and wrongly predicts all the data points of class \"0\" will still attain accuracy of 81.18%. Is that discent? Of course not and therefore accuracy score can mislead in that regard.\n",
    "- For these reason, apart from considering accuracy, we will consider, precision, recall and f1 score. Specifically, we are more interested on recall\n",
    "\n",
    "- Recall - It gives the ratio of True positives to Actual positives, so high Recall implies low false negatives, i.e. low chances of predicting a the customer who purchased the package to one who did not. \n",
    "\n",
    "**Stratified sampling examples**\n",
    "\n",
    "- When data (classification) exhibit a significant imbalance in the distribution of the target classes, it is good to use stratified sampling to ensure that relative class frequencies are approximately preserved in train and test sets. \n",
    "- This is done by setting the `stratify` parameter to target variable in the train_test_split function like as shown below."
   ]
  },
  {
   "cell_type": "code",
   "execution_count": 33,
   "metadata": {},
   "outputs": [],
   "source": [
    "# Split data into training(70%) and test set(30%).\n",
    "X_train, X_test, y_train, y_test = train_test_split(X, y, test_size=.30, random_state=1, stratify=y)"
   ]
  },
  {
   "cell_type": "code",
   "execution_count": 34,
   "metadata": {},
   "outputs": [],
   "source": [
    "# Keeping all the model performance results here\n",
    "model_results = []"
   ]
  },
  {
   "cell_type": "code",
   "execution_count": null,
   "metadata": {},
   "outputs": [],
   "source": []
  },
  {
   "cell_type": "code",
   "execution_count": 35,
   "metadata": {},
   "outputs": [
    {
     "data": {
      "text/html": [
       "<div>\n",
       "<style scoped>\n",
       "    .dataframe tbody tr th:only-of-type {\n",
       "        vertical-align: middle;\n",
       "    }\n",
       "\n",
       "    .dataframe tbody tr th {\n",
       "        vertical-align: top;\n",
       "    }\n",
       "\n",
       "    .dataframe thead th {\n",
       "        text-align: right;\n",
       "    }\n",
       "</style>\n",
       "<table border=\"1\" class=\"dataframe\">\n",
       "  <thead>\n",
       "    <tr style=\"text-align: right;\">\n",
       "      <th></th>\n",
       "      <th>a</th>\n",
       "      <th>b</th>\n",
       "    </tr>\n",
       "  </thead>\n",
       "  <tbody>\n",
       "    <tr>\n",
       "      <th>0</th>\n",
       "      <td>1</td>\n",
       "      <td>2</td>\n",
       "    </tr>\n",
       "    <tr>\n",
       "      <th>1</th>\n",
       "      <td>3</td>\n",
       "      <td>9</td>\n",
       "    </tr>\n",
       "  </tbody>\n",
       "</table>\n",
       "</div>"
      ],
      "text/plain": [
       "   a  b\n",
       "0  1  2\n",
       "1  3  9"
      ]
     },
     "execution_count": 35,
     "metadata": {},
     "output_type": "execute_result"
    }
   ],
   "source": [
    "asf = pd.DataFrame({\"a\":[1,3], \"b\":[2,9]})\n",
    "asf"
   ]
  },
  {
   "cell_type": "code",
   "execution_count": null,
   "metadata": {},
   "outputs": [],
   "source": []
  },
  {
   "cell_type": "code",
   "execution_count": 36,
   "metadata": {},
   "outputs": [],
   "source": [
    "def ConfusionMatrix(y_actual, pred, set1, save_as=None):\n",
    "    \"\"\"\n",
    "    This function will be used throughout the project to generate Confusion Matrix.\n",
    "    \"\"\"\n",
    "    plt.figure(figsize=(10,8))\n",
    "    \n",
    "    cm = confusion_matrix(y_actual,pred, labels=[1, 0])\n",
    "\n",
    "    df_cm = pd.DataFrame(cm, index=[\"Yes\",\"No\"], columns=[\"Yes\",\"No\"])\n",
    "    #percent = [np.round(i/np.sum(cm.flatten())*100,2) for i in cm.flatten()]\n",
    "    percent = [df_cm.iloc[0,0]/sum(df_cm.iloc[0]),df_cm.iloc[0,1]/sum(df_cm.iloc[0]),\\\n",
    "              df_cm.iloc[1,0]/sum(df_cm.iloc[1]),df_cm.iloc[1,1]/sum(df_cm.iloc[1])]\n",
    "    percent = [round(i,2) for i in percent]\n",
    "    values = cm.flatten()\n",
    "    labels = [\"{}\\n({}%)\".format(i,j) for i, j in\n",
    "                  zip(values,percent)]\n",
    "    labels = np.array(labels).reshape(2,2)\n",
    "    \n",
    "    sns.heatmap(df_cm, annot= labels, fmt= \"\")\n",
    "    \n",
    "    plt.title(\"Confusion Matrix for {} set.\".format(set1))\n",
    "    plt.xlabel(\"Predicted Values\")\n",
    "    plt.ylabel(\"True Values\")\n",
    "    \n",
    "    if save_as != None:\n",
    "        plt.savefig(\"./images/{}\".format(save_as))\n",
    "    \n",
    "    plt.show()\n",
    "    \n",
    "    print(set1,cm)\n",
    "    \n",
    "    return None"
   ]
  },
  {
   "cell_type": "code",
   "execution_count": 37,
   "metadata": {},
   "outputs": [],
   "source": [
    "##  Function to calculate different metric scores of the model - Accuracy, Recall and Precision\n",
    "def get_metrics_score(model,flag=True, model_name=\"\"):\n",
    "    '''\n",
    "    This function is used to make prediction and to determine model\n",
    "    performance using metrics like: accuracy, precision, recall and f1.\n",
    "\n",
    "    '''\n",
    "    # defining an empty list to store train and test results\n",
    "    score_list=[] \n",
    "    \n",
    "    #Predicting on train and tests\n",
    "    pred_train = model.predict(X_train)\n",
    "    pred_test = model.predict(X_test)\n",
    "    \n",
    "    #Accuracy of the model\n",
    "    train_acc = model.score(X_train,y_train)\n",
    "    test_acc = model.score(X_test,y_test)\n",
    "    \n",
    "    #Recall of the model\n",
    "    train_recall = recall_score(y_train,pred_train)\n",
    "    test_recall = recall_score(y_test,pred_test)\n",
    "    \n",
    "    #Precision of the model\n",
    "    train_precision = precision_score(y_train,pred_train)\n",
    "    test_precision = precision_score(y_test,pred_test)\n",
    "    \n",
    "    #Precision of the model\n",
    "    train_f1 = f1_score(y_train,pred_train)\n",
    "    test_f1 = f1_score(y_test,pred_test)\n",
    "    \n",
    "    score_list.extend((train_acc,test_acc,train_precision,test_precision,train_recall,test_recall, train_f1, test_f1))\n",
    "    \n",
    "    results = {\n",
    "        \"model_name\":model_name,\n",
    "        \"train_acc\": train_acc,\n",
    "        \"test_acc\":test_acc,\n",
    "        \"train_recall\": train_recall,\n",
    "        \"test_recall\": test_recall,\n",
    "        \"train_precision\": train_precision,\n",
    "        \"test_precision\": test_precision,\n",
    "        \"train_f1\": train_f1,\n",
    "        \"test_f1\": test_f1\n",
    "    }\n",
    "    \n",
    "    # To save results to a list for comparison purposes later.\n",
    "    try:\n",
    "        done = [i[\"model_name\"] for i in model_results]\n",
    "    except KeyError as e:\n",
    "        model_results.append(results)\n",
    "        done = [i[\"model_name\"] for i in model_results]\n",
    "    if model_name not in done:\n",
    "        model_results.append(results)\n",
    "    else:\n",
    "        print(\"Caught up\")\n",
    "        \n",
    "    # If the flag is set to True then only the following print statements will be dispayed. The default value is set to True.\n",
    "    if flag == True: \n",
    "        print(\"Accuracy on training set : \",model.score(X_train,y_train))\n",
    "        print(\"Accuracy on test set : \",model.score(X_test,y_test))\n",
    "        print(\"Recall on training set : \",recall_score(y_train,pred_train))\n",
    "        print(\"Recall on test set : \",recall_score(y_test,pred_test))\n",
    "        print(\"Precision on training set : \",precision_score(y_train,pred_train))\n",
    "        print(\"Precision on test set : \",precision_score(y_test,pred_test))\n",
    "    \n",
    "    return results # returning the list with train and test scores"
   ]
  },
  {
   "cell_type": "markdown",
   "metadata": {},
   "source": [
    "# 1. BAGGING"
   ]
  },
  {
   "cell_type": "markdown",
   "metadata": {},
   "source": [
    "## BAGGING CLASSIFIER - default parameters"
   ]
  },
  {
   "cell_type": "markdown",
   "metadata": {},
   "source": [
    "**Default parameters:**\n",
    "sklearn.ensemble.BaggingClassifier(base_estimator=DecisionTreeClassifier, n_estimators=10, *, max_samples=1.0, max_features=1.0, bootstrap=True, bootstrap_features=False, oob_score=False, warm_start=False, n_jobs=None, random_state=None, verbose=0)"
   ]
  },
  {
   "cell_type": "code",
   "execution_count": 38,
   "metadata": {},
   "outputs": [
    {
     "data": {
      "text/plain": [
       "BaggingClassifier(random_state=1)"
      ]
     },
     "execution_count": 38,
     "metadata": {},
     "output_type": "execute_result"
    }
   ],
   "source": [
    "#base_estimator for bagging classifier is a decision tree by default\n",
    "bagging_default =BaggingClassifier(random_state=1)\n",
    "bagging_default.fit(X_train,y_train)"
   ]
  },
  {
   "cell_type": "code",
   "execution_count": 39,
   "metadata": {},
   "outputs": [
    {
     "name": "stdout",
     "output_type": "stream",
     "text": [
      "Accuracy on training set :  0.9927310488058152\n",
      "Accuracy on test set :  0.9031476997578692\n",
      "Recall on training set :  0.96415770609319\n",
      "Recall on test set :  0.6527196652719666\n",
      "Precision on training set :  0.9981447124304267\n",
      "Precision on test set :  0.8082901554404145\n"
     ]
    },
    {
     "data": {
      "text/plain": [
       "{'model_name': 'bagging_default',\n",
       " 'train_acc': 0.9927310488058152,\n",
       " 'test_acc': 0.9031476997578692,\n",
       " 'train_recall': 0.96415770609319,\n",
       " 'test_recall': 0.6527196652719666,\n",
       " 'train_precision': 0.9981447124304267,\n",
       " 'test_precision': 0.8082901554404145,\n",
       " 'train_f1': 0.9808568824065634,\n",
       " 'test_f1': 0.7222222222222223}"
      ]
     },
     "execution_count": 39,
     "metadata": {},
     "output_type": "execute_result"
    }
   ],
   "source": [
    "#Using above defined function to get accuracy, recall and precision on train and test set\n",
    "get_metrics_score(bagging_default, model_name=\"bagging_default\")"
   ]
  },
  {
   "cell_type": "code",
   "execution_count": 40,
   "metadata": {},
   "outputs": [
    {
     "data": {
      "image/png": "[encoded data removed]",
      "text/plain": [
       "<Figure size 720x576 with 2 Axes>"
      ]
     },
     "metadata": {
      "needs_background": "light"
     },
     "output_type": "display_data"
    },
    {
     "name": "stdout",
     "output_type": "stream",
     "text": [
      "test [[156  83]\n",
      " [ 37 963]]\n"
     ]
    }
   ],
   "source": [
    "ConfusionMatrix(y_test, bagging_default.predict(X_test), set1=\"test\")"
   ]
  },
  {
   "cell_type": "markdown",
   "metadata": {},
   "source": [
    "**Remark:**\n",
    "- Bagging classifier with default parameter slightly overfit. The test recall is, however, low.\n",
    "    "
   ]
  },
  {
   "cell_type": "markdown",
   "metadata": {},
   "source": [
    "## BAGGING CLASSIFIER - tuned"
   ]
  },
  {
   "cell_type": "code",
   "execution_count": 41,
   "metadata": {},
   "outputs": [
    {
     "name": "stdout",
     "output_type": "stream",
     "text": [
      "Best parameters for decision tree base {'max_features': 0.9, 'max_samples': 0.8, 'n_estimators': 40}\n",
      "Best parameters for logistic regression base {'max_features': 0.9, 'max_samples': 0.8, 'n_estimators': 40}\n"
     ]
    },
    {
     "data": {
      "text/plain": [
       "BaggingClassifier(base_estimator=LogisticRegression(random_state=1),\n",
       "                  max_features=0.9, max_samples=0.8, n_estimators=40,\n",
       "                  random_state=1)"
      ]
     },
     "execution_count": 41,
     "metadata": {},
     "output_type": "execute_result"
    }
   ],
   "source": [
    "# Choose the type of classifier. \n",
    "bagging_tuned1 = BaggingClassifier(random_state=1)\n",
    "bagging_tuned2 = BaggingClassifier(base_estimator=LogisticRegression(random_state=1), random_state=1)\n",
    "# Grid of parameters to choose from\n",
    "## add from article\n",
    "parameters = {\n",
    "                'max_samples':[0.8,0.9,1], \n",
    "              'max_features': [0.8,0.9,1],\n",
    "              'n_estimators' : [40,50,100,200,250],\n",
    "             }\n",
    "\n",
    "# Type of scoring used to compare parameter combinations\n",
    "acc_scorer = metrics.make_scorer(metrics.recall_score)\n",
    "\n",
    "# Run the grid search\n",
    "grid_obj = GridSearchCV(bagging_tuned1, parameters, scoring=acc_scorer, cv=5)\n",
    "grid_obj = grid_obj.fit(X_train, y_train)\n",
    "print(\"Best parameters for decision tree base\",grid_obj.best_params_)\n",
    "\n",
    "grid_obj2 = GridSearchCV(bagging_tuned2, parameters, scoring=acc_scorer, cv=5)\n",
    "grid_obj2 = grid_obj2.fit(X_train, y_train)\n",
    "print(\"Best parameters for logistic regression base\",grid_obj2.best_params_)\n",
    "\n",
    "# Set the clf to the best combination of parameters\n",
    "bagging_tuned = grid_obj.best_estimator_\n",
    "bagging_tuned2 = grid_obj2.best_estimator_\n",
    "\n",
    "\n",
    "# Fit the best algorithm to the data.\n",
    "bagging_tuned.fit(X_train, y_train)\n",
    "bagging_tuned2.fit(X_train, y_train)"
   ]
  },
  {
   "cell_type": "code",
   "execution_count": 42,
   "metadata": {},
   "outputs": [
    {
     "name": "stdout",
     "output_type": "stream",
     "text": [
      "Accuracy on training set :  0.9986154378677743\n",
      "Accuracy on test set :  0.910411622276029\n",
      "Recall on training set :  0.992831541218638\n",
      "Recall on test set :  0.6527196652719666\n",
      "Precision on training set :  1.0\n",
      "Precision on test set :  0.8478260869565217\n"
     ]
    },
    {
     "data": {
      "image/png": "[encoded data removed]",
      "text/plain": [
       "<Figure size 720x576 with 2 Axes>"
      ]
     },
     "metadata": {
      "needs_background": "light"
     },
     "output_type": "display_data"
    },
    {
     "name": "stdout",
     "output_type": "stream",
     "text": [
      "test [[156  83]\n",
      " [ 28 972]]\n",
      "Accuracy on training set :  0.8431983385254413\n",
      "Accuracy on test set :  0.8329297820823245\n",
      "Recall on training set :  0.22580645161290322\n",
      "Recall on test set :  0.17573221757322174\n",
      "Precision on training set :  0.8571428571428571\n",
      "Precision on test set :  0.8076923076923077\n"
     ]
    },
    {
     "data": {
      "image/png": "[encoded data removed]",
      "text/plain": [
       "<Figure size 720x576 with 2 Axes>"
      ]
     },
     "metadata": {
      "needs_background": "light"
     },
     "output_type": "display_data"
    },
    {
     "name": "stdout",
     "output_type": "stream",
     "text": [
      "test [[ 42 197]\n",
      " [ 10 990]]\n"
     ]
    }
   ],
   "source": [
    "#Using above defined function to get accuracy, recall, and precision on train and test set\n",
    "get_metrics_score(bagging_tuned, model_name=\"bagging_dt_tuned\")\n",
    "ConfusionMatrix(y_test, bagging_tuned.predict(X_test), set1=\"test\")\n",
    "\n",
    "#Using above defined function to get accuracy, recall, and precision on train and test set\n",
    "get_metrics_score(bagging_tuned2, model_name=\"bagging_lg_tuned\")\n",
    "ConfusionMatrix(y_test, bagging_tuned2.predict(X_test), set1=\"test\")"
   ]
  },
  {
   "cell_type": "markdown",
   "metadata": {},
   "source": [
    "Next, is that we train bagging classifier with different base classfiers: decision tree and logistic regression. We tuned the two variants on the same parameters"
   ]
  },
  {
   "cell_type": "markdown",
   "metadata": {},
   "source": [
    "### Insights (Default: DecisionTreeClassifier as the base_estimator)\n",
    "- The model is overfitting the data, as train accuracy and recall are much higher than the test accuracy and test recall.\n",
    "- The confusion matrix shows that the model is better at identifying persons who did not purchase the package as compared to those who did. So far, however, this is the best we can get.\n"
   ]
  },
  {
   "cell_type": "markdown",
   "metadata": {},
   "source": [
    "### Insights (Logistic Regression as the base_estimator)\n",
    "- Bagging classifier with logistic regression as base_estimator is not overfitting the data but the test recall and even train recall are very low.\n",
    "- Ensemble models are less interpretable than decision tree but bagging classifier is even less interpretable than random forest. It does not even have a feature importance attribute."
   ]
  },
  {
   "cell_type": "markdown",
   "metadata": {},
   "source": [
    "## RANDOM FOREST - default parameters"
   ]
  },
  {
   "cell_type": "markdown",
   "metadata": {},
   "source": [
    "Default parameters: sklearn.ensemble.RandomForestClassifier(n_estimators=100, *, criterion='gini', max_depth=None, min_samples_split=2, min_samples_leaf=1, min_weight_fraction_leaf=0.0, max_features='auto', max_leaf_nodes=None, min_impurity_decrease=0.0, min_impurity_split=None, bootstrap=True, oob_score=False, n_jobs=None, random_state=None, verbose=0, warm_start=False, class_weight=None, ccp_alpha=0.0, max_samples=None)"
   ]
  },
  {
   "cell_type": "code",
   "execution_count": 43,
   "metadata": {},
   "outputs": [
    {
     "data": {
      "text/plain": [
       "RandomForestClassifier(random_state=1)"
      ]
     },
     "execution_count": 43,
     "metadata": {},
     "output_type": "execute_result"
    }
   ],
   "source": [
    "#Train the random forest classifier\n",
    "rf_default=RandomForestClassifier(random_state=1)\n",
    "rf_default.fit(X_train,y_train)"
   ]
  },
  {
   "cell_type": "code",
   "execution_count": 44,
   "metadata": {},
   "outputs": [
    {
     "name": "stdout",
     "output_type": "stream",
     "text": [
      "Accuracy on training set :  1.0\n",
      "Accuracy on test set :  0.9031476997578692\n",
      "Recall on training set :  1.0\n",
      "Recall on test set :  0.5815899581589958\n",
      "Precision on training set :  1.0\n",
      "Precision on test set :  0.8742138364779874\n"
     ]
    },
    {
     "data": {
      "image/png": "[encoded data removed]",
      "text/plain": [
       "<Figure size 720x576 with 2 Axes>"
      ]
     },
     "metadata": {
      "needs_background": "light"
     },
     "output_type": "display_data"
    },
    {
     "name": "stdout",
     "output_type": "stream",
     "text": [
      "test [[139 100]\n",
      " [ 20 980]]\n"
     ]
    }
   ],
   "source": [
    "#Using above defined function to get accuracy, recall and precision on train and test set\n",
    "get_metrics_score(rf_default, model_name=\"rf_default\")\n",
    "ConfusionMatrix(y_test, rf_default.predict(X_test), set1=\"test\")"
   ]
  },
  {
   "cell_type": "markdown",
   "metadata": {},
   "source": [
    "**Remark:**\n",
    "    "
   ]
  },
  {
   "cell_type": "markdown",
   "metadata": {},
   "source": [
    "- The model overfits on the train data, and the test recall is lower than the previous bagging models."
   ]
  },
  {
   "cell_type": "markdown",
   "metadata": {},
   "source": [
    "## RANDOM FOREST - tuned"
   ]
  },
  {
   "cell_type": "code",
   "execution_count": 45,
   "metadata": {},
   "outputs": [
    {
     "data": {
      "text/plain": [
       "RandomForestClassifier(class_weight={0: 0.2, 1: 0.8}, max_features=0.7,\n",
       "                       max_samples=0.9, min_samples_leaf=9, n_estimators=150,\n",
       "                       random_state=1)"
      ]
     },
     "execution_count": 45,
     "metadata": {},
     "output_type": "execute_result"
    }
   ],
   "source": [
    "# Choose the type of classifier. \n",
    "rf_tuned1 = RandomForestClassifier(random_state=1)\n",
    "\n",
    "# Grid of parameters to choose from\n",
    "## add from article\n",
    "parameters = {\n",
    "    \"class_weight\": [{0: 0.2, 1: 0.8}], \n",
    "    \"n_estimators\": [150,250],\n",
    "    \"min_samples_leaf\": [5, 7, 9],\n",
    "    \"max_features\": [0.7, 0.9, 1.0],\n",
    "    \"max_samples\": [0.7, 0.9, 1.0],\n",
    "    \n",
    "}\n",
    "\n",
    "# Type of scoring used to compare parameter combinations\n",
    "acc_scorer = metrics.make_scorer(metrics.recall_score)\n",
    "\n",
    "# Run the grid search\n",
    "grid_obj = GridSearchCV(rf_tuned1, parameters, scoring=acc_scorer,cv=5)\n",
    "grid_obj = grid_obj.fit(X_train, y_train)\n",
    "\n",
    "# Set the clf to the best combination of parameters\n",
    "rf_tuned = grid_obj.best_estimator_\n",
    "\n",
    "# Fit the best algorithm to the data.\n",
    "rf_tuned.fit(X_train, y_train)"
   ]
  },
  {
   "cell_type": "code",
   "execution_count": 46,
   "metadata": {},
   "outputs": [
    {
     "name": "stdout",
     "output_type": "stream",
     "text": [
      "Accuracy on training set :  0.9169262720664589\n",
      "Accuracy on test set :  0.8426150121065376\n",
      "Recall on training set :  0.8924731182795699\n",
      "Recall on test set :  0.6443514644351465\n",
      "Precision on training set :  0.7345132743362832\n",
      "Precision on test set :  0.5833333333333334\n"
     ]
    },
    {
     "data": {
      "image/png": "[encoded data removed]",
      "text/plain": [
       "<Figure size 720x576 with 2 Axes>"
      ]
     },
     "metadata": {
      "needs_background": "light"
     },
     "output_type": "display_data"
    },
    {
     "name": "stdout",
     "output_type": "stream",
     "text": [
      "test [[154  85]\n",
      " [110 890]]\n"
     ]
    }
   ],
   "source": [
    "#Using above defined function to get accuracy, recall and precision on train and test set\n",
    "get_metrics_score(rf_tuned, model_name=\"rf_tuned\")\n",
    "ConfusionMatrix(y_test, rf_tuned.predict(X_test), set1=\"test\")"
   ]
  },
  {
   "cell_type": "markdown",
   "metadata": {},
   "source": [
    "**Remark:**\n",
    "\n",
    "- Best parameters: RandomForestClassifier(class_weight={0: 0.2, 1: 0.8}, max_features=0.7,max_samples=0.9, min_samples_leaf=9, n_estimators=150,random_state=1)\n",
    "- On tuning we are also impossibe class_weights to fix the issue that our model is imbalanced.\n",
    "- The tuned Random Forest performs better than default variant in terms of overfitting. The test recall also improved but the test precision dropped. F1 score also dropped meaning in general the model worsened."
   ]
  },
  {
   "cell_type": "code",
   "execution_count": null,
   "metadata": {},
   "outputs": [],
   "source": []
  },
  {
   "cell_type": "markdown",
   "metadata": {},
   "source": [
    "## Decision Tree"
   ]
  },
  {
   "cell_type": "code",
   "execution_count": 47,
   "metadata": {},
   "outputs": [
    {
     "data": {
      "text/plain": [
       "DecisionTreeClassifier(random_state=1)"
      ]
     },
     "execution_count": 47,
     "metadata": {},
     "output_type": "execute_result"
    }
   ],
   "source": [
    "#Train the random forest classifier\n",
    "dt_default=DecisionTreeClassifier(random_state=1)\n",
    "dt_default.fit(X_train,y_train)"
   ]
  },
  {
   "cell_type": "code",
   "execution_count": 48,
   "metadata": {},
   "outputs": [
    {
     "name": "stdout",
     "output_type": "stream",
     "text": [
      "Accuracy on training set :  1.0\n",
      "Accuracy on test set :  0.8845843422114609\n",
      "Recall on training set :  1.0\n",
      "Recall on test set :  0.7154811715481172\n",
      "Precision on training set :  1.0\n",
      "Precision on test set :  0.6951219512195121\n"
     ]
    },
    {
     "data": {
      "image/png": "[encoded data removed]",
      "text/plain": [
       "<Figure size 720x576 with 2 Axes>"
      ]
     },
     "metadata": {
      "needs_background": "light"
     },
     "output_type": "display_data"
    },
    {
     "name": "stdout",
     "output_type": "stream",
     "text": [
      "test [[171  68]\n",
      " [ 75 925]]\n"
     ]
    }
   ],
   "source": [
    "#Using above defined function to get accuracy, recall and precision on train and test set\n",
    "get_metrics_score(dt_default, model_name=\"dt_default\")\n",
    "ConfusionMatrix(y_test, dt_default.predict(X_test), set1=\"test\")"
   ]
  },
  {
   "cell_type": "code",
   "execution_count": 49,
   "metadata": {},
   "outputs": [
    {
     "data": {
      "text/html": [
       "<div>\n",
       "<style scoped>\n",
       "    .dataframe tbody tr th:only-of-type {\n",
       "        vertical-align: middle;\n",
       "    }\n",
       "\n",
       "    .dataframe tbody tr th {\n",
       "        vertical-align: top;\n",
       "    }\n",
       "\n",
       "    .dataframe thead th {\n",
       "        text-align: right;\n",
       "    }\n",
       "</style>\n",
       "<table border=\"1\" class=\"dataframe\">\n",
       "  <thead>\n",
       "    <tr style=\"text-align: right;\">\n",
       "      <th></th>\n",
       "      <th>model_name</th>\n",
       "      <th>train_acc</th>\n",
       "      <th>test_acc</th>\n",
       "      <th>train_recall</th>\n",
       "      <th>test_recall</th>\n",
       "      <th>train_precision</th>\n",
       "      <th>test_precision</th>\n",
       "      <th>train_f1</th>\n",
       "      <th>test_f1</th>\n",
       "    </tr>\n",
       "  </thead>\n",
       "  <tbody>\n",
       "    <tr>\n",
       "      <th>0</th>\n",
       "      <td>bagging_default</td>\n",
       "      <td>0.992731</td>\n",
       "      <td>0.903148</td>\n",
       "      <td>0.964158</td>\n",
       "      <td>0.652720</td>\n",
       "      <td>0.998145</td>\n",
       "      <td>0.808290</td>\n",
       "      <td>0.980857</td>\n",
       "      <td>0.722222</td>\n",
       "    </tr>\n",
       "    <tr>\n",
       "      <th>1</th>\n",
       "      <td>bagging_dt_tuned</td>\n",
       "      <td>0.998615</td>\n",
       "      <td>0.910412</td>\n",
       "      <td>0.992832</td>\n",
       "      <td>0.652720</td>\n",
       "      <td>1.000000</td>\n",
       "      <td>0.847826</td>\n",
       "      <td>0.996403</td>\n",
       "      <td>0.737589</td>\n",
       "    </tr>\n",
       "    <tr>\n",
       "      <th>2</th>\n",
       "      <td>bagging_lg_tuned</td>\n",
       "      <td>0.843198</td>\n",
       "      <td>0.832930</td>\n",
       "      <td>0.225806</td>\n",
       "      <td>0.175732</td>\n",
       "      <td>0.857143</td>\n",
       "      <td>0.807692</td>\n",
       "      <td>0.357447</td>\n",
       "      <td>0.288660</td>\n",
       "    </tr>\n",
       "    <tr>\n",
       "      <th>3</th>\n",
       "      <td>rf_default</td>\n",
       "      <td>1.000000</td>\n",
       "      <td>0.903148</td>\n",
       "      <td>1.000000</td>\n",
       "      <td>0.581590</td>\n",
       "      <td>1.000000</td>\n",
       "      <td>0.874214</td>\n",
       "      <td>1.000000</td>\n",
       "      <td>0.698492</td>\n",
       "    </tr>\n",
       "    <tr>\n",
       "      <th>4</th>\n",
       "      <td>rf_tuned</td>\n",
       "      <td>0.916926</td>\n",
       "      <td>0.842615</td>\n",
       "      <td>0.892473</td>\n",
       "      <td>0.644351</td>\n",
       "      <td>0.734513</td>\n",
       "      <td>0.583333</td>\n",
       "      <td>0.805825</td>\n",
       "      <td>0.612326</td>\n",
       "    </tr>\n",
       "    <tr>\n",
       "      <th>5</th>\n",
       "      <td>dt_default</td>\n",
       "      <td>1.000000</td>\n",
       "      <td>0.884584</td>\n",
       "      <td>1.000000</td>\n",
       "      <td>0.715481</td>\n",
       "      <td>1.000000</td>\n",
       "      <td>0.695122</td>\n",
       "      <td>1.000000</td>\n",
       "      <td>0.705155</td>\n",
       "    </tr>\n",
       "  </tbody>\n",
       "</table>\n",
       "</div>"
      ],
      "text/plain": [
       "         model_name  train_acc  test_acc  train_recall  test_recall  \\\n",
       "0   bagging_default   0.992731  0.903148      0.964158     0.652720   \n",
       "1  bagging_dt_tuned   0.998615  0.910412      0.992832     0.652720   \n",
       "2  bagging_lg_tuned   0.843198  0.832930      0.225806     0.175732   \n",
       "3        rf_default   1.000000  0.903148      1.000000     0.581590   \n",
       "4          rf_tuned   0.916926  0.842615      0.892473     0.644351   \n",
       "5        dt_default   1.000000  0.884584      1.000000     0.715481   \n",
       "\n",
       "   train_precision  test_precision  train_f1   test_f1  \n",
       "0         0.998145        0.808290  0.980857  0.722222  \n",
       "1         1.000000        0.847826  0.996403  0.737589  \n",
       "2         0.857143        0.807692  0.357447  0.288660  \n",
       "3         1.000000        0.874214  1.000000  0.698492  \n",
       "4         0.734513        0.583333  0.805825  0.612326  \n",
       "5         1.000000        0.695122  1.000000  0.705155  "
      ]
     },
     "execution_count": 49,
     "metadata": {},
     "output_type": "execute_result"
    }
   ],
   "source": [
    "pd.DataFrame(model_results)"
   ]
  },
  {
   "cell_type": "markdown",
   "metadata": {},
   "source": [
    "**Insights:**\n",
    "    - Decision tree with default parameters overfits. It does so well on the test recall compared to previous model but falls short on the test precision"
   ]
  },
  {
   "cell_type": "code",
   "execution_count": 50,
   "metadata": {},
   "outputs": [
    {
     "data": {
      "text/plain": [
       "DecisionTreeClassifier(max_depth=10, max_features=0.9, max_leaf_nodes=50,\n",
       "                       min_impurity_decrease=0.001, min_samples_leaf=4,\n",
       "                       random_state=1)"
      ]
     },
     "execution_count": 50,
     "metadata": {},
     "output_type": "execute_result"
    }
   ],
   "source": [
    "# Choose the type of classifier. \n",
    "dt_tuned1 = DecisionTreeClassifier(random_state=1)\n",
    "\n",
    "# Grid of parameters to choose from\n",
    "## add from article\n",
    "parameters = {\n",
    "    \"max_depth\": [2,6,10,15],\n",
    "    \"min_samples_leaf\": [4,8,12,16],\n",
    "    \"max_features\": [0.7,0.9,1.0],\n",
    "    'max_leaf_nodes' : [2, 3, 5, 10,30,50],\n",
    "    'min_impurity_decrease': [0.001,0.01,0.1]\n",
    "}\n",
    "\n",
    "# Type of scoring used to compare parameter combinations\n",
    "acc_scorer = metrics.make_scorer(metrics.recall_score)\n",
    "\n",
    "# Run the grid search\n",
    "grid_obj = GridSearchCV(dt_tuned1, parameters, scoring=acc_scorer,cv=5)\n",
    "grid_obj = grid_obj.fit(X_train, y_train)\n",
    "\n",
    "# Set the clf to the best combination of parameters\n",
    "dt_tuned = grid_obj.best_estimator_\n",
    "\n",
    "# Fit the best algorithm to the data.\n",
    "dt_tuned.fit(X_train, y_train)"
   ]
  },
  {
   "cell_type": "code",
   "execution_count": 51,
   "metadata": {},
   "outputs": [
    {
     "name": "stdout",
     "output_type": "stream",
     "text": [
      "Accuracy on training set :  0.9003115264797508\n",
      "Accuracy on test set :  0.8401937046004843\n",
      "Recall on training set :  0.6218637992831542\n",
      "Recall on test set :  0.4602510460251046\n",
      "Precision on training set :  0.8183962264150944\n",
      "Precision on test set :  0.6145251396648045\n"
     ]
    },
    {
     "data": {
      "image/png": "[encoded data removed]",
      "text/plain": [
       "<Figure size 720x576 with 2 Axes>"
      ]
     },
     "metadata": {
      "needs_background": "light"
     },
     "output_type": "display_data"
    },
    {
     "name": "stdout",
     "output_type": "stream",
     "text": [
      "test [[154  85]\n",
      " [110 890]]\n"
     ]
    }
   ],
   "source": [
    "#Using above defined function to get accuracy, recall and precision on train and test set\n",
    "get_metrics_score(dt_tuned, model_name=\"dt_tuned\")\n",
    "ConfusionMatrix(y_test, rf_tuned.predict(X_test), set1=\"test\")"
   ]
  },
  {
   "cell_type": "markdown",
   "metadata": {},
   "source": [
    "**Insights:**\n",
    "    - Tuned Decision Tree does not overfit but the test recall is so low."
   ]
  },
  {
   "cell_type": "code",
   "execution_count": 52,
   "metadata": {},
   "outputs": [
    {
     "name": "stdout",
     "output_type": "stream",
     "text": [
      "TOP 3\n"
     ]
    },
    {
     "data": {
      "text/html": [
       "<div>\n",
       "<style scoped>\n",
       "    .dataframe tbody tr th:only-of-type {\n",
       "        vertical-align: middle;\n",
       "    }\n",
       "\n",
       "    .dataframe tbody tr th {\n",
       "        vertical-align: top;\n",
       "    }\n",
       "\n",
       "    .dataframe thead th {\n",
       "        text-align: right;\n",
       "    }\n",
       "</style>\n",
       "<table border=\"1\" class=\"dataframe\">\n",
       "  <thead>\n",
       "    <tr style=\"text-align: right;\">\n",
       "      <th></th>\n",
       "      <th>Column</th>\n",
       "      <th>Importance</th>\n",
       "    </tr>\n",
       "  </thead>\n",
       "  <tbody>\n",
       "    <tr>\n",
       "      <th>8</th>\n",
       "      <td>Passport</td>\n",
       "      <td>0.162585</td>\n",
       "    </tr>\n",
       "    <tr>\n",
       "      <th>0</th>\n",
       "      <td>Age</td>\n",
       "      <td>0.161820</td>\n",
       "    </tr>\n",
       "    <tr>\n",
       "      <th>2</th>\n",
       "      <td>DurationOfPitch</td>\n",
       "      <td>0.149581</td>\n",
       "    </tr>\n",
       "  </tbody>\n",
       "</table>\n",
       "</div>"
      ],
      "text/plain": [
       "            Column  Importance\n",
       "8         Passport    0.162585\n",
       "0              Age    0.161820\n",
       "2  DurationOfPitch    0.149581"
      ]
     },
     "execution_count": 52,
     "metadata": {},
     "output_type": "execute_result"
    }
   ],
   "source": [
    "importances1 = dt_tuned.feature_importances_\n",
    "indices = np.argsort(importances1)\n",
    "feature_names = list(X.columns)\n",
    "r = {\n",
    "    \"Column\": feature_names,\n",
    "    \"Importance\": importances1\n",
    "}\n",
    "print(\"TOP 3\")\n",
    "pd.DataFrame(r).sort_values(by=\"Importance\", ascending=False)[:3]"
   ]
  },
  {
   "cell_type": "code",
   "execution_count": null,
   "metadata": {},
   "outputs": [],
   "source": []
  },
  {
   "cell_type": "markdown",
   "metadata": {},
   "source": [
    "# 2. BOOSTING"
   ]
  },
  {
   "cell_type": "markdown",
   "metadata": {},
   "source": [
    "## AdaBoost - default parameters"
   ]
  },
  {
   "cell_type": "code",
   "execution_count": 53,
   "metadata": {},
   "outputs": [
    {
     "data": {
      "text/plain": [
       "AdaBoostClassifier(random_state=1)"
      ]
     },
     "execution_count": 53,
     "metadata": {},
     "output_type": "execute_result"
    }
   ],
   "source": [
    "ada_default = AdaBoostClassifier(random_state=1)\n",
    "ada_default.fit(X_train,y_train)"
   ]
  },
  {
   "cell_type": "code",
   "execution_count": 54,
   "metadata": {},
   "outputs": [
    {
     "name": "stdout",
     "output_type": "stream",
     "text": [
      "Accuracy on training set :  0.847005884389062\n",
      "Accuracy on test set :  0.8216303470540759\n",
      "Recall on training set :  0.3870967741935484\n",
      "Recall on test set :  0.2928870292887029\n",
      "Precision on training set :  0.6835443037974683\n",
      "Precision on test set :  0.5737704918032787\n"
     ]
    },
    {
     "data": {
      "image/png": "[encoded data removed]",
      "text/plain": [
       "<Figure size 720x576 with 2 Axes>"
      ]
     },
     "metadata": {
      "needs_background": "light"
     },
     "output_type": "display_data"
    },
    {
     "name": "stdout",
     "output_type": "stream",
     "text": [
      "test [[ 70 169]\n",
      " [ 52 948]]\n"
     ]
    }
   ],
   "source": [
    "#Using above defined function to get accuracy, recall and precision on train and test set\n",
    "get_metrics_score(ada_default, model_name=\"ada_default\")\n",
    "ConfusionMatrix(y_test, ada_default.predict(X_test), set1=\"test\")"
   ]
  },
  {
   "cell_type": "markdown",
   "metadata": {},
   "source": [
    "**Remarks:**\n",
    " - Adaboost model with default parameters does not overfit but has low test recall and test precision compared with the other models"
   ]
  },
  {
   "cell_type": "markdown",
   "metadata": {},
   "source": [
    "## AdaBoost - tuned"
   ]
  },
  {
   "cell_type": "code",
   "execution_count": 55,
   "metadata": {},
   "outputs": [
    {
     "data": {
      "text/plain": [
       "AdaBoostClassifier(base_estimator=DecisionTreeClassifier(max_depth=3),\n",
       "                   learning_rate=1.7, n_estimators=100, random_state=1)"
      ]
     },
     "execution_count": 55,
     "metadata": {},
     "output_type": "execute_result"
    }
   ],
   "source": [
    "# Choose the type of classifier. \n",
    "ada_tuned1 = AdaBoostClassifier(random_state=1)\n",
    "\n",
    "# Grid of parameters to choose from\n",
    "## add from article\n",
    "parameters = {\n",
    "    #Let's try different max_depth for base_estimator\n",
    "    \"base_estimator\": [DecisionTreeClassifier(max_depth=1),DecisionTreeClassifier(max_depth=2),DecisionTreeClassifier(max_depth=3)],\n",
    "    \"n_estimators\": np.arange(10,110,10),\n",
    "    \"learning_rate\": np.arange(0.1,2,0.1)\n",
    "}\n",
    "\n",
    "# Type of scoring used to compare parameter combinations\n",
    "acc_scorer = metrics.make_scorer(metrics.f1_score)\n",
    "\n",
    "# Run the grid search\n",
    "grid_obj = GridSearchCV(ada_tuned1, parameters, scoring=acc_scorer,cv=5)\n",
    "grid_obj = grid_obj.fit(X_train, y_train)\n",
    "\n",
    "# Set the clf to the best combination of parameters\n",
    "ada_tuned = grid_obj.best_estimator_\n",
    "\n",
    "# Fit the best algorithm to the data.\n",
    "ada_tuned.fit(X_train, y_train)"
   ]
  },
  {
   "cell_type": "code",
   "execution_count": 56,
   "metadata": {},
   "outputs": [
    {
     "name": "stdout",
     "output_type": "stream",
     "text": [
      "Accuracy on training set :  0.9951540325372101\n",
      "Accuracy on test set :  0.8539144471347861\n",
      "Recall on training set :  0.985663082437276\n",
      "Recall on test set :  0.5774058577405857\n",
      "Precision on training set :  0.9892086330935251\n",
      "Precision on test set :  0.6330275229357798\n"
     ]
    },
    {
     "data": {
      "image/png": "[encoded data removed]",
      "text/plain": [
       "<Figure size 720x576 with 2 Axes>"
      ]
     },
     "metadata": {
      "needs_background": "light"
     },
     "output_type": "display_data"
    },
    {
     "name": "stdout",
     "output_type": "stream",
     "text": [
      "test [[138 101]\n",
      " [ 80 920]]\n"
     ]
    }
   ],
   "source": [
    "#Using above defined function to get accuracy, recall and precision on train and test set\n",
    "get_metrics_score(ada_tuned, model_name=\"ada_tuned\")\n",
    "ConfusionMatrix(y_test, ada_tuned.predict(X_test), set1=\"test\")"
   ]
  },
  {
   "cell_type": "code",
   "execution_count": 57,
   "metadata": {},
   "outputs": [
    {
     "name": "stdout",
     "output_type": "stream",
     "text": [
      "TOP 3\n"
     ]
    },
    {
     "data": {
      "text/html": [
       "<div>\n",
       "<style scoped>\n",
       "    .dataframe tbody tr th:only-of-type {\n",
       "        vertical-align: middle;\n",
       "    }\n",
       "\n",
       "    .dataframe tbody tr th {\n",
       "        vertical-align: top;\n",
       "    }\n",
       "\n",
       "    .dataframe thead th {\n",
       "        text-align: right;\n",
       "    }\n",
       "</style>\n",
       "<table border=\"1\" class=\"dataframe\">\n",
       "  <thead>\n",
       "    <tr style=\"text-align: right;\">\n",
       "      <th></th>\n",
       "      <th>Column</th>\n",
       "      <th>Importance</th>\n",
       "    </tr>\n",
       "  </thead>\n",
       "  <tbody>\n",
       "    <tr>\n",
       "      <th>12</th>\n",
       "      <td>MonthlyIncome</td>\n",
       "      <td>0.254679</td>\n",
       "    </tr>\n",
       "    <tr>\n",
       "      <th>0</th>\n",
       "      <td>Age</td>\n",
       "      <td>0.145667</td>\n",
       "    </tr>\n",
       "    <tr>\n",
       "      <th>2</th>\n",
       "      <td>DurationOfPitch</td>\n",
       "      <td>0.144840</td>\n",
       "    </tr>\n",
       "  </tbody>\n",
       "</table>\n",
       "</div>"
      ],
      "text/plain": [
       "             Column  Importance\n",
       "12    MonthlyIncome    0.254679\n",
       "0               Age    0.145667\n",
       "2   DurationOfPitch    0.144840"
      ]
     },
     "execution_count": 57,
     "metadata": {},
     "output_type": "execute_result"
    }
   ],
   "source": [
    "importances = ada_tuned.feature_importances_\n",
    "indices = np.argsort(importances)\n",
    "feature_names = list(X.columns)\n",
    "r = {\n",
    "    \"Column\": feature_names,\n",
    "    \"Importance\": importances\n",
    "}\n",
    "print(\"TOP 3\")\n",
    "pd.DataFrame(r).sort_values(by=\"Importance\", ascending=False)[:3]"
   ]
  },
  {
   "cell_type": "markdown",
   "metadata": {},
   "source": [
    "**Remark:**\n",
    "- Tuned adaboost perfomed better than the one with default params except that it slightly overfits. It attained better test recall and test precision."
   ]
  },
  {
   "cell_type": "markdown",
   "metadata": {},
   "source": [
    "## Gradient Boosting - default parameters"
   ]
  },
  {
   "cell_type": "code",
   "execution_count": 58,
   "metadata": {},
   "outputs": [
    {
     "data": {
      "text/plain": [
       "GradientBoostingClassifier(init=AdaBoostClassifier(random_state=1),\n",
       "                           random_state=1)"
      ]
     },
     "execution_count": 58,
     "metadata": {},
     "output_type": "execute_result"
    }
   ],
   "source": [
    "gb_default = GradientBoostingClassifier(init=AdaBoostClassifier(random_state=1),random_state=1)\n",
    "gb_default.fit(X_train,y_train)"
   ]
  },
  {
   "cell_type": "code",
   "execution_count": 59,
   "metadata": {},
   "outputs": [
    {
     "name": "stdout",
     "output_type": "stream",
     "text": [
      "Accuracy on training set :  0.9016960886119765\n",
      "Accuracy on test set :  0.8547215496368039\n",
      "Recall on training set :  0.5627240143369175\n",
      "Recall on test set :  0.39748953974895396\n",
      "Precision on training set :  0.8870056497175142\n",
      "Precision on test set :  0.7251908396946565\n"
     ]
    },
    {
     "data": {
      "image/png": "[encoded data removed]",
      "text/plain": [
       "<Figure size 720x576 with 2 Axes>"
      ]
     },
     "metadata": {
      "needs_background": "light"
     },
     "output_type": "display_data"
    },
    {
     "name": "stdout",
     "output_type": "stream",
     "text": [
      "test [[138 101]\n",
      " [ 80 920]]\n"
     ]
    }
   ],
   "source": [
    "get_metrics_score(gb_default, model_name=\"gb_default\")\n",
    "ConfusionMatrix(y_test, ada_tuned.predict(X_test), set1=\"test\")"
   ]
  },
  {
   "cell_type": "markdown",
   "metadata": {},
   "source": [
    "## Gradient Boosting - tuned"
   ]
  },
  {
   "cell_type": "code",
   "execution_count": 60,
   "metadata": {},
   "outputs": [
    {
     "data": {
      "text/plain": [
       "GradientBoostingClassifier(init=AdaBoostClassifier(random_state=1),\n",
       "                           max_features=0.9, n_estimators=250, random_state=1,\n",
       "                           subsample=0.8)"
      ]
     },
     "execution_count": 60,
     "metadata": {},
     "output_type": "execute_result"
    }
   ],
   "source": [
    "# Choose the type of classifier. \n",
    "gb_tuned1 = GradientBoostingClassifier(init=AdaBoostClassifier(random_state=1),random_state=1)\n",
    "\n",
    "# Grid of parameters to choose from\n",
    "## add from article\n",
    "parameters = {\n",
    "    \"n_estimators\": [100,150,200,250],\n",
    "    \"subsample\":[0.8,0.9,1],\n",
    "    \"max_features\":[0.7,0.8,0.9,1]\n",
    "}\n",
    "\n",
    "# Type of scoring used to compare parameter combinations\n",
    "acc_scorer = metrics.make_scorer(metrics.recall_score)\n",
    "\n",
    "# Run the grid search\n",
    "grid_obj = GridSearchCV(gb_tuned1, parameters, scoring=acc_scorer,cv=5)\n",
    "grid_obj = grid_obj.fit(X_train, y_train)\n",
    "\n",
    "# Set the clf to the best combination of parameters\n",
    "gb_tuned = grid_obj.best_estimator_\n",
    "\n",
    "# Fit the best algorithm to the data.\n",
    "gb_tuned.fit(X_train, y_train)"
   ]
  },
  {
   "cell_type": "code",
   "execution_count": 61,
   "metadata": {},
   "outputs": [
    {
     "name": "stdout",
     "output_type": "stream",
     "text": [
      "Accuracy on training set :  0.9435790931118034\n",
      "Accuracy on test set :  0.8692493946731235\n",
      "Recall on training set :  0.7347670250896058\n",
      "Recall on test set :  0.502092050209205\n",
      "Precision on training set :  0.9647058823529412\n",
      "Precision on test set :  0.7361963190184049\n"
     ]
    },
    {
     "data": {
      "image/png": "[encoded data removed]",
      "text/plain": [
       "<Figure size 720x576 with 2 Axes>"
      ]
     },
     "metadata": {
      "needs_background": "light"
     },
     "output_type": "display_data"
    },
    {
     "name": "stdout",
     "output_type": "stream",
     "text": [
      "test [[120 119]\n",
      " [ 43 957]]\n"
     ]
    }
   ],
   "source": [
    "#Using above defined function to get accuracy, recall and precision on train and test set\n",
    "get_metrics_score(gb_tuned, model_name=\"gb_tuned\")\n",
    "ConfusionMatrix(y_test, gb_tuned.predict(X_test), set1=\"test\")"
   ]
  },
  {
   "cell_type": "code",
   "execution_count": 62,
   "metadata": {},
   "outputs": [
    {
     "data": {
      "text/html": [
       "<div>\n",
       "<style scoped>\n",
       "    .dataframe tbody tr th:only-of-type {\n",
       "        vertical-align: middle;\n",
       "    }\n",
       "\n",
       "    .dataframe tbody tr th {\n",
       "        vertical-align: top;\n",
       "    }\n",
       "\n",
       "    .dataframe thead th {\n",
       "        text-align: right;\n",
       "    }\n",
       "</style>\n",
       "<table border=\"1\" class=\"dataframe\">\n",
       "  <thead>\n",
       "    <tr style=\"text-align: right;\">\n",
       "      <th></th>\n",
       "      <th>model_name</th>\n",
       "      <th>train_acc</th>\n",
       "      <th>test_acc</th>\n",
       "      <th>train_recall</th>\n",
       "      <th>test_recall</th>\n",
       "      <th>train_precision</th>\n",
       "      <th>test_precision</th>\n",
       "      <th>train_f1</th>\n",
       "      <th>test_f1</th>\n",
       "    </tr>\n",
       "  </thead>\n",
       "  <tbody>\n",
       "    <tr>\n",
       "      <th>0</th>\n",
       "      <td>bagging_default</td>\n",
       "      <td>0.992731</td>\n",
       "      <td>0.903148</td>\n",
       "      <td>0.964158</td>\n",
       "      <td>0.652720</td>\n",
       "      <td>0.998145</td>\n",
       "      <td>0.808290</td>\n",
       "      <td>0.980857</td>\n",
       "      <td>0.722222</td>\n",
       "    </tr>\n",
       "    <tr>\n",
       "      <th>1</th>\n",
       "      <td>bagging_dt_tuned</td>\n",
       "      <td>0.998615</td>\n",
       "      <td>0.910412</td>\n",
       "      <td>0.992832</td>\n",
       "      <td>0.652720</td>\n",
       "      <td>1.000000</td>\n",
       "      <td>0.847826</td>\n",
       "      <td>0.996403</td>\n",
       "      <td>0.737589</td>\n",
       "    </tr>\n",
       "    <tr>\n",
       "      <th>2</th>\n",
       "      <td>bagging_lg_tuned</td>\n",
       "      <td>0.843198</td>\n",
       "      <td>0.832930</td>\n",
       "      <td>0.225806</td>\n",
       "      <td>0.175732</td>\n",
       "      <td>0.857143</td>\n",
       "      <td>0.807692</td>\n",
       "      <td>0.357447</td>\n",
       "      <td>0.288660</td>\n",
       "    </tr>\n",
       "    <tr>\n",
       "      <th>3</th>\n",
       "      <td>rf_default</td>\n",
       "      <td>1.000000</td>\n",
       "      <td>0.903148</td>\n",
       "      <td>1.000000</td>\n",
       "      <td>0.581590</td>\n",
       "      <td>1.000000</td>\n",
       "      <td>0.874214</td>\n",
       "      <td>1.000000</td>\n",
       "      <td>0.698492</td>\n",
       "    </tr>\n",
       "    <tr>\n",
       "      <th>4</th>\n",
       "      <td>rf_tuned</td>\n",
       "      <td>0.916926</td>\n",
       "      <td>0.842615</td>\n",
       "      <td>0.892473</td>\n",
       "      <td>0.644351</td>\n",
       "      <td>0.734513</td>\n",
       "      <td>0.583333</td>\n",
       "      <td>0.805825</td>\n",
       "      <td>0.612326</td>\n",
       "    </tr>\n",
       "    <tr>\n",
       "      <th>5</th>\n",
       "      <td>dt_default</td>\n",
       "      <td>1.000000</td>\n",
       "      <td>0.884584</td>\n",
       "      <td>1.000000</td>\n",
       "      <td>0.715481</td>\n",
       "      <td>1.000000</td>\n",
       "      <td>0.695122</td>\n",
       "      <td>1.000000</td>\n",
       "      <td>0.705155</td>\n",
       "    </tr>\n",
       "    <tr>\n",
       "      <th>6</th>\n",
       "      <td>dt_tuned</td>\n",
       "      <td>0.900312</td>\n",
       "      <td>0.840194</td>\n",
       "      <td>0.621864</td>\n",
       "      <td>0.460251</td>\n",
       "      <td>0.818396</td>\n",
       "      <td>0.614525</td>\n",
       "      <td>0.706721</td>\n",
       "      <td>0.526316</td>\n",
       "    </tr>\n",
       "    <tr>\n",
       "      <th>7</th>\n",
       "      <td>ada_default</td>\n",
       "      <td>0.847006</td>\n",
       "      <td>0.821630</td>\n",
       "      <td>0.387097</td>\n",
       "      <td>0.292887</td>\n",
       "      <td>0.683544</td>\n",
       "      <td>0.573770</td>\n",
       "      <td>0.494279</td>\n",
       "      <td>0.387812</td>\n",
       "    </tr>\n",
       "    <tr>\n",
       "      <th>8</th>\n",
       "      <td>ada_tuned</td>\n",
       "      <td>0.995154</td>\n",
       "      <td>0.853914</td>\n",
       "      <td>0.985663</td>\n",
       "      <td>0.577406</td>\n",
       "      <td>0.989209</td>\n",
       "      <td>0.633028</td>\n",
       "      <td>0.987433</td>\n",
       "      <td>0.603939</td>\n",
       "    </tr>\n",
       "    <tr>\n",
       "      <th>9</th>\n",
       "      <td>gb_default</td>\n",
       "      <td>0.901696</td>\n",
       "      <td>0.854722</td>\n",
       "      <td>0.562724</td>\n",
       "      <td>0.397490</td>\n",
       "      <td>0.887006</td>\n",
       "      <td>0.725191</td>\n",
       "      <td>0.688596</td>\n",
       "      <td>0.513514</td>\n",
       "    </tr>\n",
       "    <tr>\n",
       "      <th>10</th>\n",
       "      <td>gb_tuned</td>\n",
       "      <td>0.943579</td>\n",
       "      <td>0.869249</td>\n",
       "      <td>0.734767</td>\n",
       "      <td>0.502092</td>\n",
       "      <td>0.964706</td>\n",
       "      <td>0.736196</td>\n",
       "      <td>0.834181</td>\n",
       "      <td>0.597015</td>\n",
       "    </tr>\n",
       "  </tbody>\n",
       "</table>\n",
       "</div>"
      ],
      "text/plain": [
       "          model_name  train_acc  test_acc  train_recall  test_recall  \\\n",
       "0    bagging_default   0.992731  0.903148      0.964158     0.652720   \n",
       "1   bagging_dt_tuned   0.998615  0.910412      0.992832     0.652720   \n",
       "2   bagging_lg_tuned   0.843198  0.832930      0.225806     0.175732   \n",
       "3         rf_default   1.000000  0.903148      1.000000     0.581590   \n",
       "4           rf_tuned   0.916926  0.842615      0.892473     0.644351   \n",
       "5         dt_default   1.000000  0.884584      1.000000     0.715481   \n",
       "6           dt_tuned   0.900312  0.840194      0.621864     0.460251   \n",
       "7        ada_default   0.847006  0.821630      0.387097     0.292887   \n",
       "8          ada_tuned   0.995154  0.853914      0.985663     0.577406   \n",
       "9         gb_default   0.901696  0.854722      0.562724     0.397490   \n",
       "10          gb_tuned   0.943579  0.869249      0.734767     0.502092   \n",
       "\n",
       "    train_precision  test_precision  train_f1   test_f1  \n",
       "0          0.998145        0.808290  0.980857  0.722222  \n",
       "1          1.000000        0.847826  0.996403  0.737589  \n",
       "2          0.857143        0.807692  0.357447  0.288660  \n",
       "3          1.000000        0.874214  1.000000  0.698492  \n",
       "4          0.734513        0.583333  0.805825  0.612326  \n",
       "5          1.000000        0.695122  1.000000  0.705155  \n",
       "6          0.818396        0.614525  0.706721  0.526316  \n",
       "7          0.683544        0.573770  0.494279  0.387812  \n",
       "8          0.989209        0.633028  0.987433  0.603939  \n",
       "9          0.887006        0.725191  0.688596  0.513514  \n",
       "10         0.964706        0.736196  0.834181  0.597015  "
      ]
     },
     "execution_count": 62,
     "metadata": {},
     "output_type": "execute_result"
    }
   ],
   "source": [
    "pd.DataFrame(model_results)"
   ]
  },
  {
   "cell_type": "markdown",
   "metadata": {},
   "source": [
    "Remark:\n",
    "- Tuned gradient boost performed better than gradient boosting."
   ]
  },
  {
   "cell_type": "markdown",
   "metadata": {},
   "source": [
    "## XGBoost - default parameters"
   ]
  },
  {
   "cell_type": "code",
   "execution_count": 63,
   "metadata": {},
   "outputs": [
    {
     "data": {
      "text/plain": [
       "XGBClassifier(base_score=0.5, booster='gbtree', colsample_bylevel=1,\n",
       "              colsample_bynode=1, colsample_bytree=1, gamma=0, gpu_id=-1,\n",
       "              importance_type='gain', interaction_constraints='',\n",
       "              learning_rate=0.300000012, max_delta_step=0, max_depth=6,\n",
       "              min_child_weight=1, missing=nan, monotone_constraints='()',\n",
       "              n_estimators=100, n_jobs=8, num_parallel_tree=1, random_state=1,\n",
       "              reg_alpha=0, reg_lambda=1, scale_pos_weight=1, subsample=1,\n",
       "              tree_method='exact', validate_parameters=1, verbosity=None)"
      ]
     },
     "execution_count": 63,
     "metadata": {},
     "output_type": "execute_result"
    }
   ],
   "source": [
    "xgb_default = XGBClassifier(random_state=1)\n",
    "xgb_default.fit(X_train,y_train, eval_metric=\"error\")"
   ]
  },
  {
   "cell_type": "code",
   "execution_count": 64,
   "metadata": {},
   "outputs": [
    {
     "name": "stdout",
     "output_type": "stream",
     "text": [
      "Accuracy on training set :  0.9996538594669436\n",
      "Accuracy on test set :  0.9209039548022598\n",
      "Recall on training set :  0.9982078853046595\n",
      "Recall on test set :  0.694560669456067\n",
      "Precision on training set :  1.0\n",
      "Precision on test set :  0.8691099476439791\n"
     ]
    },
    {
     "data": {
      "image/png": "[encoded data removed]",
      "text/plain": [
       "<Figure size 720x576 with 2 Axes>"
      ]
     },
     "metadata": {
      "needs_background": "light"
     },
     "output_type": "display_data"
    },
    {
     "name": "stdout",
     "output_type": "stream",
     "text": [
      "test [[166  73]\n",
      " [ 25 975]]\n"
     ]
    }
   ],
   "source": [
    "#Using above defined function to get accuracy, recall and precision on train and test set\n",
    "get_metrics_score(xgb_default, model_name=\"xgb_default\")\n",
    "ConfusionMatrix(y_test, xgb_default.predict(X_test), set1=\"test\")"
   ]
  },
  {
   "cell_type": "markdown",
   "metadata": {},
   "source": [
    "## XGBoost - tuned"
   ]
  },
  {
   "cell_type": "code",
   "execution_count": 65,
   "metadata": {},
   "outputs": [
    {
     "data": {
      "text/plain": [
       "XGBClassifier(base_score=0.5, booster='gbtree', colsample_bylevel=0.7,\n",
       "              colsample_bynode=1, colsample_bytree=0.9, gamma=3, gpu_id=-1,\n",
       "              importance_type='gain', interaction_constraints='',\n",
       "              learning_rate=0.05, max_delta_step=0, max_depth=6,\n",
       "              min_child_weight=1, missing=nan, monotone_constraints='()',\n",
       "              n_estimators=150, n_jobs=8, num_parallel_tree=1, random_state=1,\n",
       "              reg_alpha=0, reg_lambda=1, scale_pos_weight=5, subsample=0.9,\n",
       "              tree_method='exact', validate_parameters=1, verbosity=None)"
      ]
     },
     "execution_count": 65,
     "metadata": {},
     "output_type": "execute_result"
    }
   ],
   "source": [
    "# Choose the type of classifier. \n",
    "xgb_tuned = XGBClassifier(random_state=1)\n",
    "\n",
    "# Grid of parameters to choose from\n",
    "## add from\n",
    "parameters = {\n",
    "    \"n_estimators\": [50,100,150],\n",
    "    \"scale_pos_weight\":[2,5],\n",
    "    \"subsample\":[0.5,0.7,0.9,1],\n",
    "    \"learning_rate\":[0.2,0.05],\n",
    "    \"gamma\":[0,1,3],\n",
    "    \"colsample_bytree\":[0.7,0.9,1],\n",
    "    \"colsample_bylevel\":[0.7,0.9,1]\n",
    "}\n",
    "\n",
    "# Type of scoring used to compare parameter combinations\n",
    "acc_scorer = metrics.make_scorer(metrics.recall_score)\n",
    "\n",
    "# Run the grid search\n",
    "grid_obj = GridSearchCV(xgb_tuned, parameters,scoring=acc_scorer,cv=5)\n",
    "grid_obj = grid_obj.fit(X_train, y_train, eval_metric=\"error\")\n",
    "\n",
    "# Set the clf to the best combination of parameters\n",
    "xgb_tuned = grid_obj.best_estimator_\n",
    "\n",
    "# Fit the best algorithm to the data.\n",
    "xgb_tuned.fit(X_train, y_train, eval_metric=\"error\")"
   ]
  },
  {
   "cell_type": "code",
   "execution_count": 66,
   "metadata": {},
   "outputs": [
    {
     "name": "stdout",
     "output_type": "stream",
     "text": [
      "Accuracy on training set :  0.9667705088265836\n",
      "Accuracy on test set :  0.8789346246973365\n",
      "Recall on training set :  0.989247311827957\n",
      "Recall on test set :  0.7824267782426778\n",
      "Precision on training set :  0.8598130841121495\n",
      "Precision on test set :  0.656140350877193\n"
     ]
    },
    {
     "data": {
      "image/png": "[encoded data removed]",
      "text/plain": [
       "<Figure size 720x576 with 2 Axes>"
      ]
     },
     "metadata": {
      "needs_background": "light"
     },
     "output_type": "display_data"
    },
    {
     "name": "stdout",
     "output_type": "stream",
     "text": [
      "test [[187  52]\n",
      " [ 98 902]]\n"
     ]
    }
   ],
   "source": [
    "#Using above defined function to get accuracy, recall and precision on train and test set\n",
    "get_metrics_score(xgb_tuned,model_name =\"xgb_tuned\")\n",
    "ConfusionMatrix(y_test, xgb_tuned.predict(X_test), set1=\"test\")"
   ]
  },
  {
   "cell_type": "code",
   "execution_count": 69,
   "metadata": {},
   "outputs": [
    {
     "data": {
      "text/html": [
       "<div>\n",
       "<style scoped>\n",
       "    .dataframe tbody tr th:only-of-type {\n",
       "        vertical-align: middle;\n",
       "    }\n",
       "\n",
       "    .dataframe tbody tr th {\n",
       "        vertical-align: top;\n",
       "    }\n",
       "\n",
       "    .dataframe thead th {\n",
       "        text-align: right;\n",
       "    }\n",
       "</style>\n",
       "<table border=\"1\" class=\"dataframe\">\n",
       "  <thead>\n",
       "    <tr style=\"text-align: right;\">\n",
       "      <th></th>\n",
       "      <th>model_name</th>\n",
       "      <th>train_acc</th>\n",
       "      <th>test_acc</th>\n",
       "      <th>train_recall</th>\n",
       "      <th>test_recall</th>\n",
       "      <th>train_precision</th>\n",
       "      <th>test_precision</th>\n",
       "      <th>train_f1</th>\n",
       "      <th>test_f1</th>\n",
       "    </tr>\n",
       "  </thead>\n",
       "  <tbody>\n",
       "    <tr>\n",
       "      <th>0</th>\n",
       "      <td>bagging_default</td>\n",
       "      <td>0.992731</td>\n",
       "      <td>0.903148</td>\n",
       "      <td>0.964158</td>\n",
       "      <td>0.652720</td>\n",
       "      <td>0.998145</td>\n",
       "      <td>0.808290</td>\n",
       "      <td>0.980857</td>\n",
       "      <td>0.722222</td>\n",
       "    </tr>\n",
       "    <tr>\n",
       "      <th>1</th>\n",
       "      <td>bagging_dt_tuned</td>\n",
       "      <td>0.998615</td>\n",
       "      <td>0.910412</td>\n",
       "      <td>0.992832</td>\n",
       "      <td>0.652720</td>\n",
       "      <td>1.000000</td>\n",
       "      <td>0.847826</td>\n",
       "      <td>0.996403</td>\n",
       "      <td>0.737589</td>\n",
       "    </tr>\n",
       "    <tr>\n",
       "      <th>2</th>\n",
       "      <td>bagging_lg_tuned</td>\n",
       "      <td>0.843198</td>\n",
       "      <td>0.832930</td>\n",
       "      <td>0.225806</td>\n",
       "      <td>0.175732</td>\n",
       "      <td>0.857143</td>\n",
       "      <td>0.807692</td>\n",
       "      <td>0.357447</td>\n",
       "      <td>0.288660</td>\n",
       "    </tr>\n",
       "    <tr>\n",
       "      <th>3</th>\n",
       "      <td>rf_default</td>\n",
       "      <td>1.000000</td>\n",
       "      <td>0.903148</td>\n",
       "      <td>1.000000</td>\n",
       "      <td>0.581590</td>\n",
       "      <td>1.000000</td>\n",
       "      <td>0.874214</td>\n",
       "      <td>1.000000</td>\n",
       "      <td>0.698492</td>\n",
       "    </tr>\n",
       "    <tr>\n",
       "      <th>4</th>\n",
       "      <td>rf_tuned</td>\n",
       "      <td>0.916926</td>\n",
       "      <td>0.842615</td>\n",
       "      <td>0.892473</td>\n",
       "      <td>0.644351</td>\n",
       "      <td>0.734513</td>\n",
       "      <td>0.583333</td>\n",
       "      <td>0.805825</td>\n",
       "      <td>0.612326</td>\n",
       "    </tr>\n",
       "    <tr>\n",
       "      <th>5</th>\n",
       "      <td>dt_default</td>\n",
       "      <td>1.000000</td>\n",
       "      <td>0.884584</td>\n",
       "      <td>1.000000</td>\n",
       "      <td>0.715481</td>\n",
       "      <td>1.000000</td>\n",
       "      <td>0.695122</td>\n",
       "      <td>1.000000</td>\n",
       "      <td>0.705155</td>\n",
       "    </tr>\n",
       "    <tr>\n",
       "      <th>6</th>\n",
       "      <td>dt_tuned</td>\n",
       "      <td>0.900312</td>\n",
       "      <td>0.840194</td>\n",
       "      <td>0.621864</td>\n",
       "      <td>0.460251</td>\n",
       "      <td>0.818396</td>\n",
       "      <td>0.614525</td>\n",
       "      <td>0.706721</td>\n",
       "      <td>0.526316</td>\n",
       "    </tr>\n",
       "    <tr>\n",
       "      <th>7</th>\n",
       "      <td>ada_default</td>\n",
       "      <td>0.847006</td>\n",
       "      <td>0.821630</td>\n",
       "      <td>0.387097</td>\n",
       "      <td>0.292887</td>\n",
       "      <td>0.683544</td>\n",
       "      <td>0.573770</td>\n",
       "      <td>0.494279</td>\n",
       "      <td>0.387812</td>\n",
       "    </tr>\n",
       "    <tr>\n",
       "      <th>8</th>\n",
       "      <td>ada_tuned</td>\n",
       "      <td>0.995154</td>\n",
       "      <td>0.853914</td>\n",
       "      <td>0.985663</td>\n",
       "      <td>0.577406</td>\n",
       "      <td>0.989209</td>\n",
       "      <td>0.633028</td>\n",
       "      <td>0.987433</td>\n",
       "      <td>0.603939</td>\n",
       "    </tr>\n",
       "    <tr>\n",
       "      <th>9</th>\n",
       "      <td>gb_default</td>\n",
       "      <td>0.901696</td>\n",
       "      <td>0.854722</td>\n",
       "      <td>0.562724</td>\n",
       "      <td>0.397490</td>\n",
       "      <td>0.887006</td>\n",
       "      <td>0.725191</td>\n",
       "      <td>0.688596</td>\n",
       "      <td>0.513514</td>\n",
       "    </tr>\n",
       "    <tr>\n",
       "      <th>10</th>\n",
       "      <td>gb_tuned</td>\n",
       "      <td>0.943579</td>\n",
       "      <td>0.869249</td>\n",
       "      <td>0.734767</td>\n",
       "      <td>0.502092</td>\n",
       "      <td>0.964706</td>\n",
       "      <td>0.736196</td>\n",
       "      <td>0.834181</td>\n",
       "      <td>0.597015</td>\n",
       "    </tr>\n",
       "    <tr>\n",
       "      <th>11</th>\n",
       "      <td>xgb_default</td>\n",
       "      <td>0.999654</td>\n",
       "      <td>0.920904</td>\n",
       "      <td>0.998208</td>\n",
       "      <td>0.694561</td>\n",
       "      <td>1.000000</td>\n",
       "      <td>0.869110</td>\n",
       "      <td>0.999103</td>\n",
       "      <td>0.772093</td>\n",
       "    </tr>\n",
       "    <tr>\n",
       "      <th>12</th>\n",
       "      <td>xgb_tuned</td>\n",
       "      <td>0.966771</td>\n",
       "      <td>0.878935</td>\n",
       "      <td>0.989247</td>\n",
       "      <td>0.782427</td>\n",
       "      <td>0.859813</td>\n",
       "      <td>0.656140</td>\n",
       "      <td>0.920000</td>\n",
       "      <td>0.713740</td>\n",
       "    </tr>\n",
       "  </tbody>\n",
       "</table>\n",
       "</div>"
      ],
      "text/plain": [
       "          model_name  train_acc  test_acc  train_recall  test_recall  \\\n",
       "0    bagging_default   0.992731  0.903148      0.964158     0.652720   \n",
       "1   bagging_dt_tuned   0.998615  0.910412      0.992832     0.652720   \n",
       "2   bagging_lg_tuned   0.843198  0.832930      0.225806     0.175732   \n",
       "3         rf_default   1.000000  0.903148      1.000000     0.581590   \n",
       "4           rf_tuned   0.916926  0.842615      0.892473     0.644351   \n",
       "5         dt_default   1.000000  0.884584      1.000000     0.715481   \n",
       "6           dt_tuned   0.900312  0.840194      0.621864     0.460251   \n",
       "7        ada_default   0.847006  0.821630      0.387097     0.292887   \n",
       "8          ada_tuned   0.995154  0.853914      0.985663     0.577406   \n",
       "9         gb_default   0.901696  0.854722      0.562724     0.397490   \n",
       "10          gb_tuned   0.943579  0.869249      0.734767     0.502092   \n",
       "11       xgb_default   0.999654  0.920904      0.998208     0.694561   \n",
       "12         xgb_tuned   0.966771  0.878935      0.989247     0.782427   \n",
       "\n",
       "    train_precision  test_precision  train_f1   test_f1  \n",
       "0          0.998145        0.808290  0.980857  0.722222  \n",
       "1          1.000000        0.847826  0.996403  0.737589  \n",
       "2          0.857143        0.807692  0.357447  0.288660  \n",
       "3          1.000000        0.874214  1.000000  0.698492  \n",
       "4          0.734513        0.583333  0.805825  0.612326  \n",
       "5          1.000000        0.695122  1.000000  0.705155  \n",
       "6          0.818396        0.614525  0.706721  0.526316  \n",
       "7          0.683544        0.573770  0.494279  0.387812  \n",
       "8          0.989209        0.633028  0.987433  0.603939  \n",
       "9          0.887006        0.725191  0.688596  0.513514  \n",
       "10         0.964706        0.736196  0.834181  0.597015  \n",
       "11         1.000000        0.869110  0.999103  0.772093  \n",
       "12         0.859813        0.656140  0.920000  0.713740  "
      ]
     },
     "execution_count": 69,
     "metadata": {},
     "output_type": "execute_result"
    }
   ],
   "source": [
    "df = pd.DataFrame(model_results)\n",
    "df.to_csv(\"results.csv\", index=False)\n",
    "df"
   ]
  },
  {
   "cell_type": "code",
   "execution_count": null,
   "metadata": {},
   "outputs": [],
   "source": []
  },
  {
   "cell_type": "code",
   "execution_count": null,
   "metadata": {},
   "outputs": [],
   "source": []
  },
  {
   "cell_type": "code",
   "execution_count": null,
   "metadata": {},
   "outputs": [],
   "source": []
  },
  {
   "cell_type": "code",
   "execution_count": null,
   "metadata": {},
   "outputs": [],
   "source": []
  },
  {
   "cell_type": "code",
   "execution_count": null,
   "metadata": {},
   "outputs": [],
   "source": []
  },
  {
   "cell_type": "code",
   "execution_count": null,
   "metadata": {},
   "outputs": [],
   "source": []
  },
  {
   "cell_type": "code",
   "execution_count": null,
   "metadata": {},
   "outputs": [],
   "source": []
  },
  {
   "cell_type": "code",
   "execution_count": null,
   "metadata": {},
   "outputs": [],
   "source": []
  }
 ],
 "metadata": {
  "kernelspec": {
   "display_name": "Python 3",
   "language": "python",
   "name": "python3"
  },
  "language_info": {
   "codemirror_mode": {
    "name": "ipython",
    "version": 3
   },
   "file_extension": ".py",
   "mimetype": "text/x-python",
   "name": "python",
   "nbconvert_exporter": "python",
   "pygments_lexer": "ipython3",
   "version": "3.7.3"
  }
 },
 "nbformat": 4,
 "nbformat_minor": 2
}
